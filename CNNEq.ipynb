{
  "nbformat": 4,
  "nbformat_minor": 0,
  "metadata": {
    "colab": {
      "name": "CNNEq.ipynb",
      "provenance": [],
      "authorship_tag": "ABX9TyNseinRfnvbfbW9BZ3eBglk",
      "include_colab_link": true
    },
    "kernelspec": {
      "name": "python3",
      "display_name": "Python 3"
    },
    "language_info": {
      "name": "python"
    }
  },
  "cells": [
    {
      "cell_type": "markdown",
      "metadata": {
        "id": "view-in-github",
        "colab_type": "text"
      },
      "source": [
        "<a href=\"https://colab.research.google.com/github/mcash8/DVBS2X-DNN-Implementation/blob/main/CNNEq.ipynb\" target=\"_parent\"><img src=\"https://colab.research.google.com/assets/colab-badge.svg\" alt=\"Open In Colab\"/></a>"
      ]
    },
    {
      "cell_type": "code",
      "execution_count": 1,
      "metadata": {
        "id": "BqrwrmOTcxMC"
      },
      "outputs": [],
      "source": [
        "import scipy.io as spio\n",
        "import math\n",
        "import time\n",
        "from tensorflow import keras\n",
        "from tensorflow.keras.models import Sequential\n",
        "from tensorflow.keras.layers import Conv2D, Dropout, MaxPool1D\n",
        "from tensorflow.keras.optimizers import SGD\n",
        "from tensorflow.keras.losses import MeanSquaredError\n",
        "import matplotlib.pyplot as plt\n",
        "\n",
        "start_time = time.time()\n",
        "\n",
        "#hyper parameters\n",
        "num_classes = 2\n",
        "batch_size = 64\n",
        "epochs = 100\n",
        "\n",
        "#import data\n",
        "matname = \"Data_SNR\" + snr + \".mat\"\n",
        "mat = spio.loadmat(matname, squeeze_me=True)\n",
        "x_train = mat['x_train']\n",
        "x_valid = mat['data_val']\n",
        "x_test = mat['x_pred']\n",
        "y_train = mat['y_train']\n",
        "y_valid = mat['target_val']\n",
        "\n",
        "# Convert the data to floats between 0 and 1.\n",
        "x_train = x_train.astype('float32')\n",
        "x_valid = x_valid.astype('float32')\n",
        "x_test = x_test.astype('float32')\n",
        "\n",
        "\n",
        "#define the network \n",
        "model = Sequential()\n",
        "model.add(Conv2D)"
      ]
    }
  ]
}