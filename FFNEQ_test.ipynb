{
  "nbformat": 4,
  "nbformat_minor": 0,
  "metadata": {
    "colab": {
      "name": "FFNEQ_test.ipynb",
      "provenance": [],
      "collapsed_sections": [],
      "authorship_tag": "ABX9TyPgYlP32h16LZ5I9kFKZw8h",
      "include_colab_link": true
    },
    "kernelspec": {
      "name": "python3",
      "display_name": "Python 3"
    },
    "language_info": {
      "name": "python"
    }
  },
  "cells": [
    {
      "cell_type": "markdown",
      "metadata": {
        "id": "view-in-github",
        "colab_type": "text"
      },
      "source": [
        "<a href=\"https://colab.research.google.com/github/mcash8/DVBS2X-DNN-Implementation/blob/main/FFNEQ_test.ipynb\" target=\"_parent\"><img src=\"https://colab.research.google.com/assets/colab-badge.svg\" alt=\"Open In Colab\"/></a>"
      ]
    },
    {
      "cell_type": "markdown",
      "source": [
        "Mount Google Drive"
      ],
      "metadata": {
        "id": "m_1L8knei8jH"
      }
    },
    {
      "cell_type": "code",
      "execution_count": 1,
      "metadata": {
        "colab": {
          "base_uri": "https://localhost:8080/"
        },
        "id": "RtpelVyAi1nc",
        "outputId": "660a8ed9-d8c4-46d2-e557-a87e0ee001ac"
      },
      "outputs": [
        {
          "output_type": "stream",
          "name": "stdout",
          "text": [
            "Mounted at /content/drive\n"
          ]
        }
      ],
      "source": [
        "from google.colab import drive\n",
        "drive.mount('/content/drive')"
      ]
    },
    {
      "cell_type": "markdown",
      "source": [
        "Train NN on DVBS2XAPSK Data\n",
        "\n",
        "\n",
        "* Current FFNN has issues with loss decreasing. The purpose of this code is to take clean DVBS2X data that has only been passed through a SRRC filter and perfect channel and see if the NN can learn a perfect mapping between input and output\n",
        "\n"
      ],
      "metadata": {
        "id": "6ZNAJGE5jCDf"
      }
    },
    {
      "cell_type": "code",
      "source": [
        "import os\n",
        "import scipy.io as spio\n",
        "import math\n",
        "import time\n",
        "import pandas as pd\n",
        "import numpy as np\n",
        "from tensorflow import keras\n",
        "from tensorflow.keras.models import Sequential\n",
        "from tensorflow.keras.layers import Dense, Dropout\n",
        "from tensorflow.keras.optimizers import SGD\n",
        "from tensorflow.keras.losses import MeanSquaredError\n",
        "import matplotlib.pyplot as plt\n",
        "\n",
        "start_time = time.time()\n",
        "\n",
        "#parameters\n",
        "num_classes = 2\n",
        "batch_size = 64\n",
        "epochs = 100\n",
        "\n",
        "%cd /content/drive/My Drive/NN\\ Input\n",
        "\n",
        "#Load the data\n",
        "folder = 'NoAWGN'\n",
        "\n",
        "#import data\n",
        "%cd $folder\n",
        "\n",
        "matname = \"NoAWGN.mat\"\n",
        "mat = spio.loadmat(matname, squeeze_me=True)\n",
        "x_train = mat['x_train']\n",
        "x_valid = mat['data_val']\n",
        "y_train = mat['y_train']\n",
        "y_valid = mat['target_val']\n",
        "\n",
        "matname = \"NoAWGN_test.mat\"\n",
        "mat = spio.loadmat(matname, squeeze_me=True)\n",
        "x_test = mat['x_pred']\n",
        "\n",
        "%cd ../\n",
        "\n",
        "#cast to float32\n",
        "x_train = x_train.astype('float32')\n",
        "x_valid = x_valid.astype('float32')\n",
        "x_test = x_test.astype('float32')\n",
        "\n",
        "print(x_train.shape, 'train samples')\n",
        "print(x_valid.shape, 'valid samples')\n",
        "\n",
        "print(y_train.shape, 'train labels')\n",
        "print(y_valid.shape, 'valid labels')\n",
        "\n",
        "print('Label Examples:\\n', y_train[0:9])\n",
        "print('Input Examples:\\n', x_train[0])\n",
        "\n",
        "# Define the network\n",
        "model = Sequential()\n",
        "model.add(Dense(50, activation='tanh', input_dim=18))\n",
        "model.add(Dense(50, activation='tanh'))\n",
        "model.add(Dense(num_classes, activation='linear'))\n",
        "\n",
        "model.summary()\n",
        "\n",
        "model.compile(loss=keras.metrics.mean_squared_error,\n",
        "            optimizer=SGD(),\n",
        "            metrics=[keras.metrics.RootMeanSquaredError(name='rmse')])\n",
        "\n",
        "history = model.fit(x_train, y_train,\n",
        "                    batch_size=batch_size,\n",
        "                    epochs=epochs,\n",
        "                    verbose=2,\n",
        "                    validation_data=(x_valid, y_valid))\n",
        "\n",
        "elapsedTime = (time.time() - start_time)/60\n",
        "print(\"--- %.2f minutes ---\" % elapsedTime)\n",
        "\n",
        "score = model.evaluate(x_train, y_train, verbose=2)\n",
        "print('Final Training MSE:', score[0])\n",
        "print('Final Training RMSE:', score[1])\n",
        "\n",
        "score = model.evaluate(x_valid, y_valid, verbose=2)\n",
        "print('Final Validation MSE:', score[0])\n",
        "print('Final Validation RMSE:', score[1])\n",
        "\n",
        "#save model\n",
        "savename = \"NoAWGN.h5\" \n",
        "model.save(savename)\n",
        "!cp $savename /content/drive/MyDrive/NN\\ Output/FFNNEq/Saved\\ Models\n",
        "\n",
        "\n",
        "#save history for graphing \n",
        "# convert the history.history dict to a pandas DataFrame:     \n",
        "hist_df = pd.DataFrame(history.history) \n",
        "# or save to csv: \n",
        "hist_csv_file = 'history.csv'\n",
        "with open(hist_csv_file, mode='w') as f:\n",
        "    hist_df.to_csv(f)\n",
        "\n",
        "!cp $hist_csv_file /content/drive/MyDrive/NN\\ Output/FFNNEq/Saved\\ Models"
      ],
      "metadata": {
        "colab": {
          "base_uri": "https://localhost:8080/"
        },
        "id": "MkmkvEnzjdSx",
        "outputId": "f02ba02d-a20b-4b44-a23c-b74eeab52f9b"
      },
      "execution_count": 6,
      "outputs": [
        {
          "output_type": "stream",
          "name": "stdout",
          "text": [
            "/content/drive/My Drive/NN Input\n",
            "/content/drive/My Drive/NN Input/NoAWGN\n",
            "/content/drive/My Drive/NN Input\n",
            "(999000, 18) train samples\n",
            "(99990, 18) valid samples\n",
            "(999000, 2) train labels\n",
            "(99990, 2) valid labels\n",
            "Label Examples:\n",
            " [[ 0.22448 -0.22448]\n",
            " [-0.22448  0.22448]\n",
            " [-0.70711  0.70711]\n",
            " [-0.22448  0.22448]\n",
            " [-0.25882  0.96593]\n",
            " [ 0.70711 -0.70711]\n",
            " [ 0.96593  0.25882]\n",
            " [ 0.25882  0.96593]\n",
            " [-0.22448 -0.22448]]\n",
            "Input Examples:\n",
            " [-0.22143 -0.70589 -0.22522 -0.25788  0.7052   0.96526  0.25736 -0.2282\n",
            " -0.22296  0.22375  0.71132  0.225    0.96326 -0.70466  0.2593   0.96938\n",
            " -0.22735 -0.2217 ]\n"
          ]
        }
      ]
    }
  ]
}