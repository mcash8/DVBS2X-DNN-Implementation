{
  "nbformat": 4,
  "nbformat_minor": 0,
  "metadata": {
    "colab": {
      "name": "QPSK NN.ipynb",
      "provenance": [],
      "collapsed_sections": [],
      "authorship_tag": "ABX9TyMbNXj9Nh83h20GQO7+QHqf",
      "include_colab_link": true
    },
    "kernelspec": {
      "name": "python3",
      "display_name": "Python 3"
    },
    "language_info": {
      "name": "python"
    }
  },
  "cells": [
    {
      "cell_type": "markdown",
      "metadata": {
        "id": "view-in-github",
        "colab_type": "text"
      },
      "source": [
        "<a href=\"https://colab.research.google.com/github/mcash8/DVBS2X-DNN-Implementation/blob/main/QPSK_NN.ipynb\" target=\"_parent\"><img src=\"https://colab.research.google.com/assets/colab-badge.svg\" alt=\"Open In Colab\"/></a>"
      ]
    },
    {
      "cell_type": "code",
      "source": [
        "from google.colab import drive\n",
        "drive.mount('/content/drive')"
      ],
      "metadata": {
        "colab": {
          "base_uri": "https://localhost:8080/"
        },
        "id": "bxu6EqzdztBJ",
        "outputId": "9b269e9b-4dd5-439e-fdcf-aec5458ffd7d"
      },
      "execution_count": 1,
      "outputs": [
        {
          "output_type": "stream",
          "name": "stdout",
          "text": [
            "Mounted at /content/drive\n"
          ]
        }
      ]
    },
    {
      "cell_type": "code",
      "source": [
        "import os\n",
        "import scipy.io as spio\n",
        "import math\n",
        "import time\n",
        "import pandas as pd\n",
        "from pandas import read_csv\n",
        "import matplotlib.pyplot as plt\n",
        "import numpy as np\n",
        "\n",
        "import tensorflow as tf\n",
        "from tensorflow import keras\n",
        "from tensorflow.keras.models import Sequential\n",
        "from tensorflow.keras.layers import Dense, Dropout\n",
        "from tensorflow.keras.optimizers import SGD\n",
        "from tensorflow.keras.losses import MeanSquaredError"
      ],
      "metadata": {
        "id": "IA_5Jlx3zswR"
      },
      "execution_count": 2,
      "outputs": []
    },
    {
      "cell_type": "code",
      "execution_count": null,
      "metadata": {
        "id": "fsbYgeTgzjb3"
      },
      "outputs": [],
      "source": [
        "start_time = time.time()\n",
        "\n",
        "#parameters\n",
        "num_classes = 2\n",
        "batch_size = 64\n",
        "epochs = 100\n",
        "\n",
        "%cd /content/drive/My Drive/NN\\ Input/AWGN/QPSK\n",
        "snrs = [2, 10, 23]\n",
        "\n",
        "for snr in snrs: \n",
        "    matname = 'QPSK_data_snr_%d.mat' % (snr)\n",
        "    mat = spio.loadmat(matname, squeeze_me=True)\n",
        "    x_train = mat['x_train']\n",
        "    x_valid = mat['val_data']\n",
        "    y_valid = mat['val_target']\n",
        "    y_train = mat['y_train']\n",
        "\n",
        "\n",
        "    #cast to float32\n",
        "    x_train = x_train.astype('float32')\n",
        "    x_valid = x_valid.astype('float32')\n",
        "    #x_test = x_test.astype('float32') \n",
        "\n",
        "    print(x_train.shape, 'train samples')\n",
        "    print(x_valid.shape, 'valid samples')\n",
        "\n",
        "    print(y_train.shape, 'train labels')\n",
        "    print(y_valid.shape, 'valid labels')\n",
        "\n",
        "    print('Label Examples:\\n', y_train)\n",
        "    print('Input Examples:\\n', x_train)\n",
        "\n",
        "    # Define the network\n",
        "    model = Sequential()\n",
        "    model.add(Dense(50, activation='elu', input_dim=18))\n",
        "    model.add(Dense(50, activation='elu'))\n",
        "    model.add(Dense(num_classes, activation='tanh'))\n",
        "\n",
        "    model.summary()\n",
        "\n",
        "    model.compile(loss=keras.metrics.mean_squared_error,\n",
        "                optimizer=SGD(learning_rate=0.1),\n",
        "                metrics=[keras.metrics.RootMeanSquaredError(name='rmse')])\n",
        "\n",
        "    history = model.fit(x_train, y_train,\n",
        "                        batch_size=batch_size,\n",
        "                        epochs=epochs,\n",
        "                        verbose=2,\n",
        "                        validation_data=(x_valid, y_valid))\n",
        "\n",
        "    elapsedTime = (time.time() - start_time)/60\n",
        "    print(\"--- %.2f minutes ---\" % elapsedTime)\n",
        "\n",
        "    score = model.evaluate(x_train, y_train, verbose=2)\n",
        "    print('Final Training MSE:', score[0])\n",
        "    print('Final Training RMSE:', score[1])\n",
        "\n",
        "    #save model\n",
        "    savename = 'QPSK_SNR_%d.h5' % (snr)\n",
        "    %cd /content/drive/My Drive/NN\\ Input/AWGN/QPSK\n",
        "    model.save(savename)\n",
        "    %cd /content/drive/My Drive/NN\\ Input/AWGN/QPSK"
      ]
    },
    {
      "cell_type": "code",
      "source": [
        "#load model and make predictions\n",
        "i = 0\n",
        "model_names = ['QPSK_SNR_2.h5','QPSK_SNR_10.h5','QPSK_SNR_23.h5']\n",
        "snr = list(range(-2,24))\n",
        "\n",
        "for name in model_names: \n",
        "    %cd /content/drive/My Drive/NN\\ Input/AWGN/QPSK\n",
        "    model = tf.keras.models.load_model(name)\n",
        "    for snrs in snr:\n",
        "        foldername = 'SNR_%d' % snrs\n",
        "        %cd /content/drive/My Drive/NN\\ Input/AWGN/Test\\ Data/QPSK\n",
        "        %cd $foldername\n",
        "        for x in range(1,11):\n",
        "            #load test data\n",
        "            matname = 'QPSK_pred_%d' % (x)\n",
        "            mat = spio.loadmat(matname, squeeze_me=True)\n",
        "            x_test = mat['train_data']\n",
        "\n",
        "            predictions = model.predict(x_test)\n",
        "\n",
        "            #save predictions\n",
        "            matname = 'QPSK_out_snr_%d_%d_mdl_%d.mat' % (snrs, x, i)\n",
        "            spio.savemat(matname, {'pred': predictions})\n",
        "    i+=1; "
      ],
      "metadata": {
        "id": "ytm_kpwPLinT"
      },
      "execution_count": null,
      "outputs": []
    }
  ]
}