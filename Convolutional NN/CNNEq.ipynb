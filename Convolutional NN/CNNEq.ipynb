{
  "cells": [
    {
      "cell_type": "code",
      "execution_count": 15,
      "metadata": {
        "colab": {
          "base_uri": "https://localhost:8080/"
        },
        "id": "gvfmvyxHV3vh",
        "outputId": "978f6db1-f5b9-4fa3-f9ba-010aa134f452"
      },
      "outputs": [
        {
          "output_type": "stream",
          "name": "stdout",
          "text": [
            "Drive already mounted at /content/drive; to attempt to forcibly remount, call drive.mount(\"/content/drive\", force_remount=True).\n"
          ]
        }
      ],
      "source": [
        "from google.colab import drive\n",
        "drive.mount('/content/drive')"
      ]
    },
    {
      "cell_type": "code",
      "execution_count": null,
      "metadata": {
        "id": "BqrwrmOTcxMC"
      },
      "outputs": [],
      "source": [
        "import scipy.io as spio\n",
        "import math\n",
        "import time\n",
        "import numpy as np\n",
        "import tensorflow as tf\n",
        "from tensorflow import keras\n",
        "from tensorflow.keras.models import Sequential\n",
        "from tensorflow.keras.layers import Conv1D, Conv2D, Dropout, MaxPool1D, Flatten, Dense\n",
        "from tensorflow.keras.optimizers import SGD\n",
        "from tensorflow.keras.losses import MeanSquaredError\n",
        "import matplotlib.pyplot as plt\n",
        "\n",
        "start_time = time.time()\n",
        "\n",
        "#hyper parameters\n",
        "batch_size = 64\n",
        "epochs = 100\n",
        "num_classes = 2\n",
        "\n",
        "SNRs = [\"-2\", \"0\", \"3\", \"10\", \"15\", \"23\", \"50\"] \n",
        "%cd /content/drive/My Drive/AWGN\\ Only2/\n",
        "for snr in SNRs: \n",
        "    folder = \"SNR\"+snr\n",
        "    #import data\n",
        "    %cd $folder\n",
        "    \n",
        "\n",
        "    '''\n",
        "    Data shape should be (#, input dim)\n",
        "    Rows should be greater than columns\n",
        "    use np.transpose if not formatted correctly\n",
        "    '''\n",
        "    matname = \"Data_SNR\" + snr + \".mat\"\n",
        "    mat = spio.loadmat(matname, squeeze_me=True)\n",
        "    x_train = mat['x_train']\n",
        "    #x_train = np.transpose(x_train)\n",
        "    x_valid = mat['data_val']\n",
        "    #x_valid = np.transpose(x_valid)\n",
        "    x_test = mat['x_pred']\n",
        "    #x_test = np.transpose(x_test)\n",
        "    y_train = mat['y_train']\n",
        "    #y_train = np.transpose(y_train)\n",
        "    y_valid = mat['target_val']\n",
        "    #y_valid = np.transpose(y_valid)\n",
        "\n",
        "    %cd ../\n",
        "\n",
        "    # Convert the data to floats between 0 and 1.\n",
        "    x_train = x_train.astype('float32')\n",
        "    x_valid = x_valid.astype('float32')\n",
        "    x_test = x_test.astype('float32')\n",
        "\n",
        "    print(x_train.shape, 'train samples')\n",
        "    print(x_valid.shape, 'valid samples')\n",
        "    print(y_train.shape, 'train labels')\n",
        "    print(y_valid.shape, 'valid labels')\n",
        "\n",
        "\n",
        "    #define the network \n",
        "    print('Build model...')\n",
        "\n",
        "\n",
        "\n",
        "    # Define the network\n",
        "    model = Sequential()\n",
        "    model.add(Conv1D(64, kernel_size=3, activation='relu', input_shape=(18,1)))\n",
        "   \n",
        "    model.add(Flatten())\n",
        "    model.add(Dense(50, activation='tanh'))\n",
        "    model.add(Dense(num_classes, activation='linear'))\n",
        "\n",
        "\n",
        "\n",
        "    model.summary()\n",
        "\n",
        "    #complie model\n",
        "    model.compile(loss=keras.metrics.mean_squared_error,\n",
        "                    optimizer=SGD(),\n",
        "                    metrics=[keras.metrics.RootMeanSquaredError(name='rmse')])\n",
        "'''\n",
        "\n",
        "    history = model.fit(x_train, y_train,\n",
        "                        batch_size=batch_size,\n",
        "                        epochs=epochs,\n",
        "                        verbose=2,\n",
        "                        validation_data=(x_valid, y_valid))\n",
        "\n",
        "    #make predictions\n",
        "    predictions = model.predict(x_test)\n",
        "    matname = \"predictionsSNR\" + snr + \".mat\"\n",
        "    spio.savemat(matname, {'pred': predictions})\n",
        "    !cp $matname /content/drive/MyDrive/NN\\ Output\n",
        "   \n",
        "    savename = \"deep_model_SNR\" + snr + \".h5\"\n",
        "    model.save(savename)\n",
        "    !cp $savename /content/drive/MyDrive/NN\\ Output\n",
        "\n",
        "    elapsedTime = (time.time() - start_time)/60\n",
        "    print(\"--- %.2f minutes ---\" % elapsedTime)\n",
        "    \n",
        "'''\n"
      ]
    },
    {
      "cell_type": "markdown",
      "source": [
        "Debug, ignore"
      ],
      "metadata": {
        "id": "qofABGKn1frX"
      }
    },
    {
      "cell_type": "code",
      "source": [
        " #make predictions\n",
        "predictions = model.predict(x_test)\n",
        "matname = \"predictionsSNR\" + snr + \".mat\"\n",
        "spio.savemat(matname, {'pred': predictions})\n",
        "!cp $matname /content/drive/MyDrive/NN\\ Output\n",
        "\n",
        "savename = \"deep_model_SNR\" + snr + \".h5\"\n",
        "model.save(savename)\n",
        "!cp $savename /content/drive/MyDrive/NN\\ Output"
      ],
      "metadata": {
        "id": "Ab5x-WC3xuub"
      },
      "execution_count": 18,
      "outputs": []
    },
    {
      "cell_type": "code",
      "source": [
        " model.add(MaxPool1D(pool_size=2, strides=None, padding='valid',\n",
        "    data_format='channels_last'))\n",
        "    model.add(Conv1D(64, kernel_size=5, activation='relu'))\n",
        "    model.add(MaxPool1D(pool_size=2, strides=None, padding='valid',\n",
        "    data_format='channels_last'))\n",
        "    model.add(Conv1D(64, kernel_size=6, activation='relu'))"
      ],
      "metadata": {
        "id": "4jrAVJ681fBk"
      },
      "execution_count": null,
      "outputs": []
    }
  ],
  "metadata": {
    "colab": {
      "collapsed_sections": [],
      "name": "CNNEq.ipynb",
      "provenance": [],
      "authorship_tag": "ABX9TyOtCPdcPcECYKSGII/7EY9P"
    },
    "kernelspec": {
      "display_name": "Python 3",
      "name": "python3"
    },
    "language_info": {
      "name": "python"
    }
  },
  "nbformat": 4,
  "nbformat_minor": 0
}
