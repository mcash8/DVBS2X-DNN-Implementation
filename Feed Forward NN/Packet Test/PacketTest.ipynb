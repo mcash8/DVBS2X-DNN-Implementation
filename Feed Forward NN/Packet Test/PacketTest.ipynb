from google.colab import drive
drive.mount('/content/drive')

%cd /content/drive/My Drive/NN\ Input/packet\ test 
nb = [5000, 10000, 50000]

for i in nb:
    matname = 'DVBSAPSK_pred_SRRC_%dpck.mat' % i
    mat = spio.loadmat(matname, squeeze_me=True)
    x_test = mat['train_data']

    #load model and make predictions
    model = tf.keras.models.load_model('DVBSAPSK_100_SRRC.h5')
    predictions = model.predict(x_test)

    #save predictions 
    matname = 'DVBSAPSK_pred_%dpck.mat' % i
    spio.savemat(matname, {'pred': predictions})
