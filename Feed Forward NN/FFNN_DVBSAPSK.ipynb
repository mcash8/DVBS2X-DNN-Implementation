{
  "cells": [
    {
      "cell_type": "markdown",
      "metadata": {
        "id": "view-in-github",
        "colab_type": "text"
      },
      "source": [
        "<a href=\"https://colab.research.google.com/github/mcash8/DVBS2X-DNN-Implementation/blob/main/Feed%20Forward%20NN/FFNN_DVBSAPSK.ipynb\" target=\"_parent\"><img src=\"https://colab.research.google.com/assets/colab-badge.svg\" alt=\"Open In Colab\"/></a>"
      ]
    },
    {
      "cell_type": "markdown",
      "metadata": {
        "id": "tuIlKYz7DKG0"
      },
      "source": [
        "Mount Drive"
      ]
    },
    {
      "cell_type": "code",
      "execution_count": 1,
      "metadata": {
        "colab": {
          "base_uri": "https://localhost:8080/"
        },
        "id": "tYeroTPsOIhj",
        "outputId": "a50fb7df-9d86-44f3-f174-819e618e6dc6"
      },
      "outputs": [
        {
          "output_type": "stream",
          "name": "stdout",
          "text": [
            "Mounted at /content/drive\n"
          ]
        }
      ],
      "source": [
        "from google.colab import drive\n",
        "drive.mount('/content/drive')"
      ]
    },
    {
      "cell_type": "markdown",
      "metadata": {
        "id": "zfXYQLRaDNJU"
      },
      "source": [
        "#Imports -Must Run After Mounting Drive"
      ]
    },
    {
      "cell_type": "code",
      "execution_count": 2,
      "metadata": {
        "id": "7UwzoVFFDJjX"
      },
      "outputs": [],
      "source": [
        "import os\n",
        "import scipy.io as spio\n",
        "import math\n",
        "import time\n",
        "import pandas as pd\n",
        "from pandas import read_csv\n",
        "import matplotlib.pyplot as plt\n",
        "import numpy as np\n",
        "\n",
        "import tensorflow as tf\n",
        "from tensorflow import keras\n",
        "from tensorflow.keras.models import Sequential\n",
        "from tensorflow.keras.layers import Dense, Dropout\n",
        "from tensorflow.keras.optimizers import SGD\n",
        "from tensorflow.keras.losses import MeanSquaredError"
      ]
    },
    {
      "cell_type": "code",
      "source": [
        "print(tf.__version__)"
      ],
      "metadata": {
        "id": "t_weEPGsJdQ5",
        "outputId": "a854b0bc-47fe-4b9e-beda-b631fa9e0cc7",
        "colab": {
          "base_uri": "https://localhost:8080/"
        }
      },
      "execution_count": null,
      "outputs": [
        {
          "output_type": "stream",
          "name": "stdout",
          "text": [
            "2.8.2\n"
          ]
        }
      ]
    },
    {
      "cell_type": "markdown",
      "metadata": {
        "id": "JYcnWMBfSiw9"
      },
      "source": [
        "#Training w/ Data Generated w/o PassBand"
      ]
    },
    {
      "cell_type": "markdown",
      "metadata": {
        "id": "w6J35xgGDdkE"
      },
      "source": [
        "Train Model"
      ]
    },
    {
      "cell_type": "code",
      "execution_count": null,
      "metadata": {
        "id": "Yns5UF56OXqq"
      },
      "outputs": [],
      "source": [
        "start_time = time.time()\n",
        "\n",
        "#parameters\n",
        "num_classes = 2\n",
        "batch_size = 64\n",
        "epochs = 100\n",
        "\n",
        "%cd /content/drive/My Drive/NN\\ Input/SNR\\ Optimization\n",
        "matname = 'DVBSAPSK_data_SNR_10.mat'\n",
        "mat = spio.loadmat(matname, squeeze_me=True)\n",
        "x_train = mat['x_train']\n",
        "x_valid = mat['val_data']\n",
        "y_valid = mat['val_target']\n",
        "y_train = mat['y_train']\n",
        "\n",
        "'''\n",
        "matname = 'DVBSAPSK_pred_23.mat'\n",
        "mat = spio.loadmat(matname, squeeze_me=True)\n",
        "x_test = mat['train_data']\n",
        "'''\n",
        "\n",
        "#cast to float32\n",
        "x_train = x_train.astype('float32')\n",
        "x_valid = x_valid.astype('float32')\n",
        "x_test = x_test.astype('float32') \n",
        "\n",
        "print(x_train.shape, 'train samples')\n",
        "print(x_valid.shape, 'valid samples')\n",
        "\n",
        "print(y_train.shape, 'train labels')\n",
        "print(y_valid.shape, 'valid labels')\n",
        "\n",
        "print('Label Examples:\\n', y_train)\n",
        "print('Input Examples:\\n', x_train)\n",
        "\n",
        "# Define the network\n",
        "model = Sequential()\n",
        "model.add(Dense(50, activation='elu', input_dim=18))\n",
        "model.add(Dense(50, activation='elu'))\n",
        "model.add(Dense(num_classes, activation='tanh'))\n",
        "\n",
        "model.summary()\n",
        "\n",
        "model.compile(loss=keras.metrics.mean_squared_error,\n",
        "            optimizer=SGD(learning_rate=0.1),\n",
        "            metrics=[keras.metrics.RootMeanSquaredError(name='rmse')])\n",
        "\n",
        "history = model.fit(x_train, y_train,\n",
        "                    batch_size=batch_size,\n",
        "                    epochs=epochs,\n",
        "                    verbose=2,\n",
        "                    validation_data=(x_valid, y_valid))\n",
        "\n",
        "elapsedTime = (time.time() - start_time)/60\n",
        "print(\"--- %.2f minutes ---\" % elapsedTime)\n",
        "\n",
        "score = model.evaluate(x_train, y_train, verbose=2)\n",
        "print('Final Training MSE:', score[0])\n",
        "print('Final Training RMSE:', score[1])"
      ]
    },
    {
      "cell_type": "markdown",
      "metadata": {
        "id": "vx7Wu07cDgUN"
      },
      "source": [
        "Save Model and Training History"
      ]
    },
    {
      "cell_type": "code",
      "execution_count": null,
      "metadata": {
        "colab": {
          "base_uri": "https://localhost:8080/"
        },
        "id": "GJvhXq_GOcn-",
        "outputId": "09ef3cba-f677-4191-9cf8-a9e32f612688"
      },
      "outputs": [
        {
          "name": "stdout",
          "output_type": "stream",
          "text": [
            "cp: 'DVBSAPSK_SNR_10.h5' and '/content/drive/MyDrive/NN Input/packet test/DVBSAPSK_SNR_10.h5' are the same file\n"
          ]
        }
      ],
      "source": [
        "#save model\n",
        "savename = 'DVBSAPSK_SNR_10.h5'\n",
        "model.save(savename)\n",
        "!cp $savename /content/drive/MyDrive/NN\\ Input/packet\\ test\n"
      ]
    },
    {
      "cell_type": "code",
      "execution_count": null,
      "metadata": {
        "id": "WAT9-8Gnu5jG"
      },
      "outputs": [],
      "source": [
        "#save history for graphing  \n",
        "hist_df = pd.DataFrame(history.history) \n",
        "\n",
        "# save to csv: \n",
        "hist_csv_file = 'blah.csv'\n",
        "with open(hist_csv_file, mode='w') as f:\n",
        "    hist_df.to_csv(f)\n",
        "\n",
        "!cp $hist_csv_file /content/drive/MyDrive/NN\\ Output/FFNNEq/Saved\\ Models\n",
        "\n",
        "predictions = model.predict(x_test)\n",
        "matname = 'blah.mat'\n",
        "spio.savemat(matname, {'pred': predictions})\n",
        "\n",
        "!cp $matname /content/drive/MyDrive/NN\\ Output/FFNNEq/Saved\\ Models"
      ]
    },
    {
      "cell_type": "markdown",
      "metadata": {
        "id": "4oyc56IMDjcX"
      },
      "source": [
        "Plot losses"
      ]
    },
    {
      "cell_type": "code",
      "execution_count": null,
      "metadata": {
        "colab": {
          "base_uri": "https://localhost:8080/"
        },
        "id": "B8aSJMafOhDt",
        "outputId": "2de2e0d6-2a20-4199-a9aa-c7edd0e8862d"
      },
      "outputs": [
        {
          "name": "stdout",
          "output_type": "stream",
          "text": [
            "/content/drive/MyDrive/NN Output/FFNNEq/Saved Models\n",
            "cp: 'loss_DVBSAPSK_100_23.png' and '/content/drive/MyDrive/NN Output/FFNNEq/Saved Models/loss_DVBSAPSK_100_23.png' are the same file\n"
          ]
        },
        {
          "data": {
            "image/png": "[encoded data removed]",
            "text/plain": [
              "<Figure size 432x288 with 1 Axes>"
            ]
          },
          "metadata": {},
          "output_type": "display_data"
        }
      ],
      "source": [
        "from pandas import read_csv\n",
        "import matplotlib.pyplot as plt\n",
        "\n",
        "%cd /content/drive/MyDrive/NN\\ Output/FFNNEq/Saved\\ Models\n",
        "hist_csv_file = 'history_DVBSAPSK_100_23.csv'\n",
        "data = read_csv(hist_csv_file)\n",
        "\n",
        "loss_data = data['loss']\n",
        "plt.plot(loss_data)\n",
        "plt.xlabel('Epochs') \n",
        "plt.ylabel('Loss - MSE') \n",
        "plt.title(\"Loss  vs. Epochs\")\n",
        "\n",
        "#save plt\n",
        "plot_name = 'loss_DVBSAPSK_100_23.png'\n",
        "plt.savefig(plot_name)\n",
        "!cp $plot_name /content/drive/MyDrive/NN\\ Output/FFNNEq/Saved\\ Models"
      ]
    },
    {
      "cell_type": "markdown",
      "metadata": {
        "id": "Yr3Q0O-YCqen"
      },
      "source": [
        "Testing random seed generator theory"
      ]
    },
    {
      "cell_type": "code",
      "execution_count": null,
      "metadata": {
        "colab": {
          "base_uri": "https://localhost:8080/"
        },
        "id": "4iVPS0A2GUCO",
        "outputId": "f7a7d109-640b-4b4d-d295-dcf073866c60"
      },
      "outputs": [
        {
          "name": "stdout",
          "output_type": "stream",
          "text": [
            "/content/drive/My Drive/NN Input/debug\n"
          ]
        }
      ],
      "source": [
        "#load model \n",
        "%cd /content/drive/My Drive/NN\\ Input/debug\n",
        "model = tf.keras.models.load_model('DVBSAPSK_100.h5') #load from google drive\n",
        "matname = 'DVBSAPSK_pred_10_rngTest.mat'\n",
        "mat = spio.loadmat(matname, squeeze_me=True)\n",
        "x_test = mat['train_data']\n",
        "\n",
        "predictions = model.predict(x_test)\n",
        "matname = 'DVBSAPSK_100_10_rng.mat'\n",
        "spio.savemat(matname, {'pred': predictions})"
      ]
    },
    {
      "cell_type": "markdown",
      "metadata": {
        "id": "xYG2AFZpSqpE"
      },
      "source": [
        "\n",
        "\n",
        "# Training w/ Data Generated to mimic passband \n"
      ]
    },
    {
      "cell_type": "markdown",
      "metadata": {
        "id": "KMPfv5NGSB3j"
      },
      "source": [
        "Testing w/ Data generated to mimic passband "
      ]
    },
    {
      "cell_type": "code",
      "execution_count": null,
      "metadata": {
        "id": "4Hesmdh3SF5m"
      },
      "outputs": [],
      "source": [
        "start_time = time.time()\n",
        "\n",
        "#parameters\n",
        "num_classes = 2\n",
        "batch_size = 64\n",
        "epochs = 100\n",
        "\n",
        "%cd /content/drive/My Drive/NN\\ Input/AWGN\\ Only\n",
        "matname = 'DVBSAPSK_data_SNR_2.mat'\n",
        "mat = spio.loadmat(matname, squeeze_me=True)\n",
        "x_train = mat['x_train']\n",
        "x_valid = mat['val_data']\n",
        "y_valid = mat['val_target']\n",
        "y_train = mat['y_train']\n",
        "\n",
        "\n",
        "#cast to float32\n",
        "x_train = x_train.astype('float32')\n",
        "x_valid = x_valid.astype('float32')\n",
        "#x_test = x_test.astype('float32') \n",
        "\n",
        "print(x_train.shape, 'train samples')\n",
        "print(x_valid.shape, 'valid samples')\n",
        "\n",
        "print(y_train.shape, 'train labels')\n",
        "print(y_valid.shape, 'valid labels')\n",
        "\n",
        "print('Label Examples:\\n', y_train)\n",
        "print('Input Examples:\\n', x_train)\n",
        "\n",
        "# Define the network\n",
        "model = Sequential()\n",
        "model.add(Dense(50, activation='elu', input_dim=18))\n",
        "model.add(Dense(50, activation='elu'))\n",
        "model.add(Dense(num_classes, activation='tanh'))\n",
        "\n",
        "model.summary()\n",
        "\n",
        "model.compile(loss=keras.metrics.mean_squared_error,\n",
        "            optimizer=SGD(learning_rate=0.1),\n",
        "            metrics=[keras.metrics.RootMeanSquaredError(name='rmse')])\n",
        "\n",
        "history = model.fit(x_train, y_train,\n",
        "                    batch_size=batch_size,\n",
        "                    epochs=epochs,\n",
        "                    verbose=2,\n",
        "                    validation_data=(x_valid, y_valid))\n",
        "\n",
        "elapsedTime = (time.time() - start_time)/60\n",
        "print(\"--- %.2f minutes ---\" % elapsedTime)\n",
        "\n",
        "score = model.evaluate(x_train, y_train, verbose=2)\n",
        "print('Final Training MSE:', score[0])\n",
        "print('Final Training RMSE:', score[1])\n",
        "\n",
        "#save model\n",
        "savename = 'DVBSAPSK_SNR_2.h5'\n",
        "model.save(savename)\n",
        "!cp $savename /content/drive/MyDrive/NN\\ Output/FFNNEq/Saved\\ Models"
      ]
    },
    {
      "cell_type": "markdown",
      "metadata": {
        "id": "FnjhZ39VX9nk"
      },
      "source": [
        "Save training history and get test sequence"
      ]
    },
    {
      "cell_type": "code",
      "execution_count": null,
      "metadata": {
        "colab": {
          "base_uri": "https://localhost:8080/"
        },
        "id": "7rJflUG0SLR7",
        "outputId": "82939bd2-6b7e-4aa9-a953-02928f13adca"
      },
      "outputs": [
        {
          "name": "stdout",
          "output_type": "stream",
          "text": [
            "cp: 'hist_DVBSAPSK_SNR_2.csv' and '/content/drive/MyDrive/NN Output/FFNNEq/Saved Models/hist_DVBSAPSK_SNR_2.csv' are the same file\n",
            "cp: cannot stat 'DVBSAPSK_data_SNR_2.mat': No such file or directory\n"
          ]
        }
      ],
      "source": [
        "#save history for graphing  \n",
        "hist_df = pd.DataFrame(history.history) \n",
        "\n",
        "# save to csv: \n",
        "hist_csv_file = 'hist_DVBSAPSK_SNR_2.csv'\n",
        "with open(hist_csv_file, mode='w') as f:\n",
        "    hist_df.to_csv(f)\n",
        "\n",
        "!cp $hist_csv_file /content/drive/MyDrive/NN\\ Output/FFNNEq/Saved\\ Models\n",
        "'''\n",
        "predictions = model.predict(x_test)\n",
        "matname = 'DVBSAPSK_pred.mat'\n",
        "spio.savemat(matname, {'pred': predictions})\n",
        "'''\n",
        "\n",
        "!cp $matname /content/drive/MyDrive/NN\\ Output/FFNNEq/Saved\\ Models"
      ]
    },
    {
      "cell_type": "markdown",
      "metadata": {
        "id": "n9T-vmaXX8ee"
      },
      "source": [
        "Plot loss"
      ]
    },
    {
      "cell_type": "code",
      "execution_count": null,
      "metadata": {
        "colab": {
          "base_uri": "https://localhost:8080/",
          "height": 331
        },
        "id": "cRZi5gBmSOFJ",
        "outputId": "26fe9cc7-2e90-49bc-e7e4-96cefe18553f"
      },
      "outputs": [
        {
          "name": "stdout",
          "output_type": "stream",
          "text": [
            "/content/drive/MyDrive/NN Output/FFNNEq/Saved Models\n",
            "cp: 'loss_SNR.png' and '/content/drive/MyDrive/NN Output/FFNNEq/Saved Models/loss_SNR.png' are the same file\n"
          ]
        },
        {
          "data": {
            "image/png": "[encoded data removed]",
            "text/plain": [
              "<Figure size 432x288 with 1 Axes>"
            ]
          },
          "metadata": {},
          "output_type": "display_data"
        }
      ],
      "source": [
        "%cd /content/drive/MyDrive/NN\\ Output/FFNNEq/Saved\\ Models\n",
        "hist_csv_file = 'hist_DVBSAPSK_SNR_2.csv'\n",
        "data = read_csv(hist_csv_file)\n",
        "\n",
        "loss_data = data['loss']\n",
        "plt.plot(loss_data)\n",
        "plt.xlabel('Epochs') \n",
        "plt.ylabel('Loss - MSE') \n",
        "plt.title(\"Loss  vs. Epochs\")\n",
        "\n",
        "#save plt\n",
        "plot_name = 'loss_SNR.png'\n",
        "plt.savefig(plot_name)\n",
        "!cp $plot_name /content/drive/MyDrive/NN\\ Output/FFNNEq/Saved\\ Models"
      ]
    },
    {
      "cell_type": "markdown",
      "metadata": {
        "id": "UXmy9qlu18Cp"
      },
      "source": [
        "#Varying Packet Size Test"
      ]
    },
    {
      "cell_type": "code",
      "execution_count": null,
      "metadata": {
        "colab": {
          "base_uri": "https://localhost:8080/"
        },
        "id": "B0XoHrsB-urx",
        "outputId": "03aa19a1-e161-4434-a22b-d48b22bcb65d"
      },
      "outputs": [
        {
          "name": "stdout",
          "output_type": "stream",
          "text": [
            "/content/drive/My Drive/NN Input/packet test\n"
          ]
        }
      ],
      "source": [
        "%cd /content/drive/My Drive/NN\\ Input/packet\\ test \n",
        "nb = [100000]\n",
        "#nb = [5000, 10000, 50000]\n",
        "\n",
        "#load model and make predictions\n",
        "model = tf.keras.models.load_model('DVBSAPSK_SNR_10.h5') #model trained on 100 10,000 integer length sequences\n",
        "\n",
        "for i in nb:\n",
        "    for x in range(1,11):\n",
        "        matname = 'DVBSAPSK_pred_SRRC_%dpck_%d.mat' % (i,x)\n",
        "        mat = spio.loadmat(matname, squeeze_me=True)\n",
        "        x_test = mat['train_data']\n",
        "\n",
        "        predictions = model.predict(x_test)\n",
        "\n",
        "        #save predictions \n",
        "        matname = 'DVBSAPSK_pred_%dpck_%d.mat' % (i,x)\n",
        "        spio.savemat(matname, {'pred': predictions})"
      ]
    },
    {
      "cell_type": "markdown",
      "metadata": {
        "id": "4SL_Ad77w95i"
      },
      "source": [
        "#Diff SNR test"
      ]
    },
    {
      "cell_type": "code",
      "execution_count": null,
      "metadata": {
        "colab": {
          "base_uri": "https://localhost:8080/"
        },
        "id": "l0MDsbsQw_PT",
        "outputId": "32421695-e790-4ea0-8281-2cdcc90799a6"
      },
      "outputs": [
        {
          "name": "stdout",
          "output_type": "stream",
          "text": [
            "/content/drive/My Drive/NN Input/packet test\n",
            "/content/drive/My Drive/NN Input/SNR Optimization\n"
          ]
        }
      ],
      "source": [
        "%cd /content/drive/My Drive/NN\\ Input/packet\\ test \n",
        "\n",
        "#load model and make predictions\n",
        "model = tf.keras.models.load_model('DVBSAPSK_SNR_10.h5')\n",
        " \n",
        "%cd /content/drive/My Drive/NN\\ Input/SNR\\ Optimization\n",
        "\n",
        "for x in range(1,11):\n",
        "    matname = 'DVBSAPSK_pred_SNR_5_%d' % (x)\n",
        "    mat = spio.loadmat(matname, squeeze_me=True)\n",
        "    x_test = mat['train_data']\n",
        "\n",
        "    predictions = model.predict(x_test)\n",
        "\n",
        "    #save predictions \n",
        "    matname = 'DVBSAPSK_pred_5_%d.mat' % (x)\n",
        "    spio.savemat(matname, {'pred': predictions})"
      ]
    },
    {
      "cell_type": "markdown",
      "metadata": {
        "id": "kdbyuFIXduGj"
      },
      "source": [
        "#No Optimal SNR Test"
      ]
    },
    {
      "cell_type": "code",
      "execution_count": null,
      "metadata": {
        "id": "p2c5EbC3d2gP"
      },
      "outputs": [],
      "source": [
        "%cd /content/drive/My Drive/NN\\ Input/NoOptTest\n",
        "\n",
        "#load model and make predictions\n",
        "i = 0\n",
        "model_names = ['DVBSAPSK_SNR_23.h5']\n",
        "out_folder = ['SNR23']\n",
        "for name in model_names: \n",
        "    model = tf.keras.models.load_model(name)\n",
        "    output = out_folder[i]\n",
        "    %mkdir $output\n",
        "    i+=1\n",
        "\n",
        "    snr = list(range(-2,24))\n",
        "\n",
        "    for snrs in snr:\n",
        "        foldername = 'SNR_%d' % snrs\n",
        "        %cd $foldername\n",
        "        for x in range(1,11):\n",
        "            #load\n",
        "            matname = 'DVBSAPSK_pred_%d' % (x)\n",
        "            mat = spio.loadmat(matname, squeeze_me=True)\n",
        "            x_test = mat['train_data']\n",
        "\n",
        "            predictions = model.predict(x_test)\n",
        "\n",
        "            #save predictions \n",
        "            %cd ..\n",
        "            %cd $output\n",
        "            matname = 'DVBSAPSK_out_snr_%d_%d.mat' % (snrs,x)\n",
        "            spio.savemat(matname, {'pred': predictions})\n",
        "            %cd ..\n",
        "            %cd $foldername\n",
        "        %cd ..\n",
        " "
      ]
    },
    {
      "cell_type": "markdown",
      "metadata": {
        "id": "k1oxp89VDwAZ"
      },
      "source": [
        "#HPA Test"
      ]
    },
    {
      "cell_type": "markdown",
      "metadata": {
        "id": "W-ugsY3iZG2c"
      },
      "source": [
        "Train Model"
      ]
    },
    {
      "cell_type": "code",
      "execution_count": null,
      "metadata": {
        "id": "pfKv4zrwDxiP"
      },
      "outputs": [],
      "source": [
        "start_time = time.time()\n",
        "\n",
        "#parameters\n",
        "num_classes = 2\n",
        "batch_size = 64\n",
        "epochs = 100\n",
        "\n",
        "%cd /content/drive/My Drive/NN\\ Input/HPA\n",
        "BO = [1]\n",
        "for bo in BO: \n",
        "    matname = 'DVBSAPSK_data_BO_%d.mat' % bo\n",
        "    mat = spio.loadmat(matname, squeeze_me=True)\n",
        "    x_train = mat['x_train']\n",
        "    x_valid = mat['val_data']\n",
        "    y_valid = mat['val_target']\n",
        "    y_train = mat['y_train']\n",
        "\n",
        "\n",
        "    #cast to float32\n",
        "    x_train = x_train.astype('float32')\n",
        "    x_valid = x_valid.astype('float32')\n",
        "    #x_test = x_test.astype('float32') \n",
        "\n",
        "    print(x_train.shape, 'train samples')\n",
        "    print(x_valid.shape, 'valid samples')\n",
        "\n",
        "    print(y_train.shape, 'train labels')\n",
        "    print(y_valid.shape, 'valid labels')\n",
        "\n",
        "    print('Label Examples:\\n', y_train)\n",
        "    print('Input Examples:\\n', x_train)\n",
        "\n",
        "    # Define the network\n",
        "    model = Sequential()\n",
        "    model.add(Dense(50, activation='elu', input_dim=18))\n",
        "    model.add(Dense(50, activation='elu'))\n",
        "    model.add(Dense(num_classes, activation='tanh'))\n",
        "\n",
        "    model.summary()\n",
        "\n",
        "    model.compile(loss=keras.metrics.mean_squared_error,\n",
        "                optimizer=SGD(learning_rate=0.1),\n",
        "                metrics=[keras.metrics.RootMeanSquaredError(name='rmse')])\n",
        "\n",
        "    history = model.fit(x_train, y_train,\n",
        "                        batch_size=batch_size,\n",
        "                        epochs=epochs,\n",
        "                        verbose=2,\n",
        "                        validation_data=(x_valid, y_valid))\n",
        "\n",
        "    elapsedTime = (time.time() - start_time)/60\n",
        "    print(\"--- %.2f minutes ---\" % elapsedTime)\n",
        "\n",
        "    savename = 'model_BO_%d.h5' % bo\n",
        "    model.save(savename)"
      ]
    },
    {
      "cell_type": "markdown",
      "metadata": {
        "id": "HL4tP4hOZMXd"
      },
      "source": [
        "Evaluate Model"
      ]
    },
    {
      "cell_type": "code",
      "execution_count": null,
      "metadata": {
        "id": "5lMKrfpk7F4j"
      },
      "outputs": [],
      "source": [
        "%cd /content/drive/My Drive/NN\\ Input/HPA\n",
        "BO = [1]\n",
        "\n",
        "for bo in BO: \n",
        "    #store results in folder\n",
        "    foldername = 'BO_%d' % bo\n",
        "    %mkdir $foldername \n",
        "\n",
        "    model_name = 'model_BO_%d.h5' % bo\n",
        "    model = tf.keras.models.load_model(model_name) #load trained model at set back off\n",
        "    for x in range(1,11): \n",
        "        matname = 'DVBSAPSK_pred_%d_%d.mat' % (bo, x)\n",
        "        mat = spio.loadmat(matname, squeeze_me=True)\n",
        "        x_test = mat['train_data']\n",
        "\n",
        "        predictions = model.predict(x_test)\n",
        "        \n",
        "        %cd $foldername \n",
        "\n",
        "        matname = 'DVBSAPSK_out_%d_%d.mat' % (bo,x)\n",
        "        spio.savemat(matname, {'pred': predictions})\n",
        "\n",
        "        %cd .. "
      ]
    },
    {
      "cell_type": "markdown",
      "metadata": {
        "id": "9zgdbCfujTqF"
      },
      "source": [
        "Evaluate Performance on Test Sequences At Different Back Offs"
      ]
    },
    {
      "cell_type": "code",
      "execution_count": null,
      "metadata": {
        "id": "Mau5qFqljfBX"
      },
      "outputs": [],
      "source": [
        "%cd /content/drive/My Drive/NN\\ Input/HPA\n",
        "%mkdir alt_test\n",
        "\n",
        "\n",
        "BO = [1,7,30]\n",
        "\n",
        "for bo in BO: \n",
        "    model_name = 'model_BO_%d.h5' % bo\n",
        "    print(model_name)\n",
        "    model = tf.keras.models.load_model(model_name) #load trained model at set back off\n",
        "\n",
        "    if bo == 1: \n",
        "        alt_seq = [7,30]\n",
        "    elif bo == 7: \n",
        "        alt_seq = [1,30]\n",
        "    else: \n",
        "        alt_seq = [1,7]\n",
        "\n",
        "    #store results in folder\n",
        "    %cd alt_test\n",
        "    foldername = 'BO_%d' % bo\n",
        "    %mkdir $foldername \n",
        "    %cd .. \n",
        "\n",
        "    for seq in alt_seq: \n",
        "        print(seq)\n",
        "        for x in range(1,11): \n",
        "            matname = 'DVBSAPSK_pred_%d_%d.mat' % (seq, x)\n",
        "            print(matname)\n",
        "            mat = spio.loadmat(matname, squeeze_me=True)\n",
        "            x_test = mat['train_data']\n",
        "\n",
        "            predictions = model.predict(x_test)\n",
        "            %cd alt_test\n",
        "            %cd $foldername \n",
        "\n",
        "            matname = 'DVBSAPSK_out_bo_%d_%d_%d.mat' % (bo,seq,x)\n",
        "            spio.savemat(matname, {'pred': predictions})\n",
        "\n",
        "            %cd .. \n",
        "            %cd .."
      ]
    },
    {
      "cell_type": "markdown",
      "metadata": {
        "id": "jbuBGuP6Q2qZ"
      },
      "source": [
        "#HPA w/ AWGN "
      ]
    },
    {
      "cell_type": "markdown",
      "metadata": {
        "id": "Z7oQj9gzcM06"
      },
      "source": [
        "Train Model"
      ]
    },
    {
      "cell_type": "code",
      "execution_count": null,
      "metadata": {
        "id": "23CR-fOuQ5b4"
      },
      "outputs": [],
      "source": [
        "%cd /content/drive/My Drive/NN\\ Input/HPA/AWGN/Train\\ Data/wnd1\n",
        "start_time = time.time()\n",
        "\n",
        "#parameters\n",
        "num_classes = 2\n",
        "batch_size = 64\n",
        "epochs = 100\n",
        "\n",
        "BO = [1,7,30]\n",
        "SNR = [2,10,23]\n",
        "\n",
        "for snr in SNR: \n",
        "    for bo in BO: \n",
        "        matname = 'DVBSAPSK_data_SNR_%d_BO_%d.mat' % (snr, bo)\n",
        "        print(matname)\n",
        "        mat = spio.loadmat(matname, squeeze_me=True)\n",
        "        x_train = mat['x_train']\n",
        "        x_valid = mat['val_data']\n",
        "        y_valid = mat['val_target']\n",
        "        y_train = mat['y_train']\n",
        "\n",
        "\n",
        "        #cast to float32\n",
        "        x_train = x_train.astype('float32')\n",
        "        x_valid = x_valid.astype('float32')\n",
        "        #x_test = x_test.astype('float32') \n",
        "\n",
        "        print(x_train.shape, 'train samples')\n",
        "        print(x_valid.shape, 'valid samples')\n",
        "\n",
        "        print(y_train.shape, 'train labels')\n",
        "        print(y_valid.shape, 'valid labels')\n",
        "\n",
        "        print('Label Examples:\\n', y_train)\n",
        "        print('Input Examples:\\n', x_train)\n",
        "\n",
        "        # Define the network - change input dim based on window size\n",
        "        model = Sequential()\n",
        "        model.add(Dense(50, activation='elu', input_dim=2))\n",
        "        model.add(Dense(50, activation='elu'))\n",
        "        model.add(Dense(num_classes, activation='tanh'))\n",
        "\n",
        "        model.summary()\n",
        "\n",
        "        model.compile(loss=keras.metrics.mean_squared_error,\n",
        "                    optimizer=SGD(learning_rate=0.1),\n",
        "                    metrics=[keras.metrics.RootMeanSquaredError(name='rmse')])\n",
        "\n",
        "        history = model.fit(x_train, y_train,\n",
        "                            batch_size=batch_size,\n",
        "                            epochs=epochs,\n",
        "                            verbose=2,\n",
        "                            validation_data=(x_valid, y_valid))\n",
        "\n",
        "        elapsedTime = (time.time() - start_time)/60\n",
        "        print(\"--- %.2f minutes ---\" % elapsedTime)\n",
        "\n",
        "        savename = 'model_SNR_%d_BO_%d_wnd8.h5' % (snr,bo)\n",
        "        model.save(savename)"
      ]
    },
    {
      "cell_type": "markdown",
      "metadata": {
        "id": "mP7TaPUpaOQh"
      },
      "source": [
        "Evaluate Performance"
      ]
    },
    {
      "cell_type": "code",
      "execution_count": null,
      "metadata": {
        "id": "Hzy44yddaPqp"
      },
      "outputs": [],
      "source": [
        "%cd /content/drive/My Drive/NN\\ Input/HPA/AWGN/Test\\ Data/wnd1/wnd1\n",
        "\n",
        "BO = [1] #backoffs \n",
        "train_snrs = [2,10] #training snrs\n",
        "snrs = list(range(-2,24))  #snrs\n",
        "\n",
        "start_time = time.time()\n",
        "for train_snr in train_snrs: \n",
        "    for bo in BO: \n",
        "        #make folder for results\n",
        "        foldername = 'BO_%d_trainSNR_%d' % (bo, train_snr) \n",
        "        %mkdir $foldername\n",
        "\n",
        "        %cd /content/drive/My Drive/NN\\ Input/HPA/AWGN/Train\\ Data/wnd1\n",
        "        model_name = 'model_SNR_%d_BO_%d_wnd1.h5' % (train_snr, bo)  #format model name\n",
        "        model = tf.keras.models.load_model(model_name) #load trained model at set back off and snr\n",
        "\n",
        "        for snr in snrs:  \n",
        "            #loop through snrs  \n",
        "            for x in range(1,11):\n",
        "                #loop through packets\n",
        "\n",
        "                %cd /content/drive/My Drive/NN\\ Input/HPA/AWGN/Test\\ Data/wnd1/wnd1\n",
        "                folder = 'BO%d' % (bo)\n",
        "                %cd $folder\n",
        "                matname = 'DVBSAPSK_pred_bo_%d_snr_%d_%d' % (bo, snr, x)\n",
        "                print(matname)\n",
        "                mat = spio.loadmat(matname, squeeze_me=True) #load data\n",
        "                x_test = mat['train_data']\n",
        "                \n",
        "                %cd .. \n",
        "                predictions = model.predict(x_test) #make predictions\n",
        "                %cd $foldername \n",
        "\n",
        "                #save predictions \n",
        "                matname = 'DVBSAPSK_out_bo_%d_snr_%d_%d.mat' % (bo,snr,x)\n",
        "                spio.savemat(matname, {'pred': predictions})\n",
        "\n",
        "                %cd /content/drive/My Drive/NN\\ Input/HPA/AWGN/Test\\ Data/wnd1/wnd1\n",
        "\n",
        "elapsedTime = (time.time() - start_time)/60\n",
        "print(\"--- %.2f minutes ---\" % elapsedTime)"
      ]
    },
    {
      "cell_type": "markdown",
      "metadata": {
        "id": "Grsct52uIxVY"
      },
      "source": [
        "#AWGN Trained Models Eval on HPA 30dB data"
      ]
    },
    {
      "cell_type": "code",
      "execution_count": null,
      "metadata": {
        "id": "UOPH7GAGI3Oi"
      },
      "outputs": [],
      "source": [
        "'''\n",
        "Evaluate models trained on AWGN data at SNRs 2dB, 10dB, and 23dB on test data \n",
        "generated with 30dB back off\n",
        "'''\n",
        "%cd /content/drive/My Drive/NN\\ Input/NoOptTest\n",
        "snrs = [2,10,23]\n",
        "SNRs = list(range(-2,24))\n",
        "folder = 'AWGN_NN_HPA_data'\n",
        "%mkdir $folder\n",
        "for snr in snrs:\n",
        "   \n",
        "    model_name = \"DVBSAPSK_SNR_%d.h5\" % snr\n",
        "    model = tf.keras.models.load_model(model_name) #load trained model \n",
        "\n",
        "    for EbNo in SNRs:\n",
        "        for x in range(1,11):\n",
        "            matname = 'DVBSAPSK_pred_bo_%d_snr_%d_%d.mat' % (30, EbNo, x)\n",
        "            print(matname)\n",
        "            mat = spio.loadmat(matname, squeeze_me=True) #load data\n",
        "            x_test = mat['train_data']\n",
        "\n",
        "            predictions = model.predict(x_test) #make predictions\n",
        "\n",
        "            %cd $folder \n",
        "            #save predictions \n",
        "            matname = 'DVBSAPSK_out_bo_%d_mdl_%d_EbNo_%d_%d.mat' % (30,snr,EbNo,x)\n",
        "            spio.savemat(matname, {'pred': predictions})\n",
        "\n",
        "            %cd .. \n"
      ]
    },
    {
      "cell_type": "markdown",
      "metadata": {
        "id": "WvIOKe8hjGVs"
      },
      "source": [
        "#AWGN Only Models\n"
      ]
    },
    {
      "cell_type": "markdown",
      "metadata": {
        "id": "KYRP_HiGjMoH"
      },
      "source": [
        "Train Data"
      ]
    },
    {
      "cell_type": "code",
      "execution_count": null,
      "metadata": {
        "id": "KzCa34W7jX_u"
      },
      "outputs": [],
      "source": [
        "start_time = time.time()\n",
        "\n",
        "#parameters\n",
        "num_classes = 2\n",
        "batch_size = 64\n",
        "epochs = 100\n",
        "\n",
        "%cd /content/drive/My Drive/NN\\ Input/AWGN\\ Only/Train\\ Data\n",
        "snrs = [2, 10, 23]\n",
        "\n",
        "for snr in snrs: \n",
        "    matname = 'DVBSAPSK_data_snr_%d.mat' % (snr)\n",
        "    mat = spio.loadmat(matname, squeeze_me=True)\n",
        "    x_train = mat['x_train']\n",
        "    x_valid = mat['val_data']\n",
        "    y_valid = mat['val_target']\n",
        "    y_train = mat['y_train']\n",
        "\n",
        "\n",
        "    #cast to float32\n",
        "    x_train = x_train.astype('float32')\n",
        "    x_valid = x_valid.astype('float32')\n",
        "    #x_test = x_test.astype('float32') \n",
        "\n",
        "    print(x_train.shape, 'train samples')\n",
        "    print(x_valid.shape, 'valid samples')\n",
        "\n",
        "    print(y_train.shape, 'train labels')\n",
        "    print(y_valid.shape, 'valid labels')\n",
        "\n",
        "    print('Label Examples:\\n', y_train)\n",
        "    print('Input Examples:\\n', x_train)\n",
        "\n",
        "    # Define the network\n",
        "    model = Sequential()\n",
        "    model.add(Dense(50, activation='elu', input_dim=18))\n",
        "    model.add(Dense(50, activation='elu'))\n",
        "    model.add(Dense(num_classes, activation='tanh'))\n",
        "\n",
        "    model.summary()\n",
        "\n",
        "    model.compile(loss=keras.metrics.mean_squared_error,\n",
        "                optimizer=SGD(learning_rate=0.1),\n",
        "                metrics=[keras.metrics.RootMeanSquaredError(name='rmse')])\n",
        "\n",
        "    history = model.fit(x_train, y_train,\n",
        "                        batch_size=batch_size,\n",
        "                        epochs=epochs,\n",
        "                        verbose=2,\n",
        "                        validation_data=(x_valid, y_valid))\n",
        "\n",
        "    elapsedTime = (time.time() - start_time)/60\n",
        "    print(\"--- %.2f minutes ---\" % elapsedTime)\n",
        "\n",
        "    score = model.evaluate(x_train, y_train, verbose=2)\n",
        "    print('Final Training MSE:', score[0])\n",
        "    print('Final Training RMSE:', score[1])\n",
        "\n",
        "    #save model\n",
        "    savename = 'DVBSAPSK_SNR_%d.h5' % (snr)\n",
        "    %cd /content/drive/My Drive/NN\\ Input/AWGN\\ Only\n",
        "    model.save(savename)\n",
        "    %cd /content/drive/My Drive/NN\\ Input/AWGN\\ Only/Train\\ Data"
      ]
    },
    {
      "cell_type": "markdown",
      "metadata": {
        "id": "76WvtkWWmqbv"
      },
      "source": [
        "Test Data"
      ]
    },
    {
      "cell_type": "code",
      "execution_count": null,
      "metadata": {
        "id": "MG9yXUS7myLS"
      },
      "outputs": [],
      "source": [
        "#load model and make predictions\n",
        "i = 0\n",
        "model_names = ['DVBSAPSK_SNR_2.h5','DVBSAPSK_SNR_10.h5','DVBSAPSK_SNR_23.h5']\n",
        "\n",
        "for name in model_names: \n",
        "    %cd /content/drive/My Drive/NN\\ Input/AWGN\\ Only\n",
        "    model = tf.keras.models.load_model(name)\n",
        "\n",
        "    snr = list(range(-2,24))\n",
        "\n",
        "    for snrs in snr:\n",
        "        foldername = 'SNR_%d' % snrs\n",
        "        %cd /content/drive/My Drive/NN\\ Input/AWGN\\ Only/Test\\ Data\n",
        "        %cd $foldername\n",
        "        for x in range(1,11):\n",
        "            #load test data\n",
        "            matname = 'DVBSAPSK_pred_%d' % (x)\n",
        "            mat = spio.loadmat(matname, squeeze_me=True)\n",
        "            x_test = mat['train_data']\n",
        "\n",
        "            predictions = model.predict(x_test)\n",
        "\n",
        "            #save predictions\n",
        "            matname = 'DVBSAPSK_out_snr_%d_%d_mdl_%d.mat' % (snrs, x, i)\n",
        "            spio.savemat(matname, {'pred': predictions})\n",
        "    i+=1; "
      ]
    },
    {
      "cell_type": "markdown",
      "metadata": {
        "id": "6D9DKgQ8dYZQ"
      },
      "source": [
        "Looking at Weights of NN"
      ]
    },
    {
      "cell_type": "code",
      "execution_count": null,
      "metadata": {
        "id": "SDIv0PRRdYGY"
      },
      "outputs": [],
      "source": [
        "%cd /content/drive/My Drive/NN\\ Input/AWGN\\ Only/Saved\\ Models\n",
        "name = 'DVBSAPSK_SNR_2.h5'\n",
        "model_2 = tf.keras.models.load_model(name)\n",
        "print(model_2.weights[0][1]) #change indexing for layer (0-4), looking at small section of weights \n",
        "print(tf.shape(model_2.weights[4]))\n",
        "name = 'DVBSAPSK_SNR_10.h5'\n",
        "model_10 = tf.keras.models.load_model(name)\n",
        "print(model_10.weights[0][1])\n",
        "\n",
        "name = 'DVBSAPSK_SNR_23.h5'\n",
        "model_23 = tf.keras.models.load_model(name)\n",
        "print(model_23.weights[0][10])"
      ]
    },
    {
      "cell_type": "markdown",
      "metadata": {
        "id": "9soXmsXJJRGI"
      },
      "source": [
        "Testing window function, window = 8 input dim = 34"
      ]
    },
    {
      "cell_type": "code",
      "execution_count": null,
      "metadata": {
        "id": "oOnLybQCJUi7"
      },
      "outputs": [],
      "source": [
        "start_time = time.time()\n",
        "\n",
        "#parameters\n",
        "num_classes = 2\n",
        "batch_size = 64\n",
        "epochs = 100\n",
        "\n",
        "%cd /content/drive/My Drive/NN\\ Input/AWGN\\ Only/Train\\ Data/wnd8\n",
        "snrs = [2, 10, 23]\n",
        "\n",
        "for snr in snrs: \n",
        "    matname = 'DVBSAPSK_data_snr_%d.mat' % (snr)\n",
        "    mat = spio.loadmat(matname, squeeze_me=True)\n",
        "    x_train = mat['x_train']\n",
        "    x_valid = mat['val_data']\n",
        "    y_valid = mat['val_target']\n",
        "    y_train = mat['y_train']\n",
        "\n",
        "\n",
        "    #cast to float32\n",
        "    x_train = x_train.astype('float32')\n",
        "    x_valid = x_valid.astype('float32')\n",
        "    #x_test = x_test.astype('float32') \n",
        "\n",
        "    print(x_train.shape, 'train samples')\n",
        "    print(x_valid.shape, 'valid samples')\n",
        "\n",
        "    print(y_train.shape, 'train labels')\n",
        "    print(y_valid.shape, 'valid labels')\n",
        "\n",
        "    print('Label Examples:\\n', y_train)\n",
        "    print('Input Examples:\\n', x_train)\n",
        "\n",
        "    # Define the network\n",
        "    model = Sequential()\n",
        "    model.add(Dense(50, activation='elu', input_dim=34))\n",
        "    model.add(Dense(50, activation='elu'))\n",
        "    model.add(Dense(num_classes, activation='tanh'))\n",
        "\n",
        "    model.summary()\n",
        "\n",
        "    model.compile(loss=keras.metrics.mean_squared_error,\n",
        "                optimizer=SGD(learning_rate=0.1),\n",
        "                metrics=[keras.metrics.RootMeanSquaredError(name='rmse')])\n",
        "\n",
        "    history = model.fit(x_train, y_train,\n",
        "                        batch_size=batch_size,\n",
        "                        epochs=epochs,\n",
        "                        verbose=2,\n",
        "                        validation_data=(x_valid, y_valid))\n",
        "\n",
        "    elapsedTime = (time.time() - start_time)/60\n",
        "    print(\"--- %.2f minutes ---\" % elapsedTime)\n",
        "\n",
        "    score = model.evaluate(x_train, y_train, verbose=2)\n",
        "    print('Final Training MSE:', score[0])\n",
        "    print('Final Training RMSE:', score[1])\n",
        "\n",
        "    #save model\n",
        "    savename = 'DVBSAPSK_SNR_%d_wnd8.h5' % (snr)\n",
        "    %cd /content/drive/My Drive/NN\\ Input/AWGN\\ Only/Saved\\ Models\n",
        "    model.save(savename)\n",
        "    %cd /content/drive/My Drive/NN\\ Input/AWGN\\ Only/Train\\ Data/wnd8"
      ]
    },
    {
      "cell_type": "markdown",
      "metadata": {
        "id": "VDTtErOOLyQm"
      },
      "source": [
        "Test Data"
      ]
    },
    {
      "cell_type": "code",
      "execution_count": null,
      "metadata": {
        "id": "ehEK9mP1LpGr"
      },
      "outputs": [],
      "source": [
        "#load model and make predictions\n",
        "i = 0\n",
        "model_names = ['DVBSAPSK_SNR_2_wnd8.h5','DVBSAPSK_SNR_10_wnd8.h5','DVBSAPSK_SNR_23_wnd8.h5']\n",
        "\n",
        "for name in model_names: \n",
        "    %cd /content/drive/My Drive/NN\\ Input/AWGN\\ Only/Saved\\ Models\n",
        "    model = tf.keras.models.load_model(name)\n",
        "\n",
        "    snr = list(range(-2,24))\n",
        "\n",
        "    for snrs in snr:\n",
        "        foldername = 'SNR_%d' % snrs\n",
        "        %cd /content/drive/My Drive/NN\\ Input/AWGN\\ Only/Test\\ Data/wnd8\n",
        "        %cd $foldername\n",
        "        for x in range(1,11):\n",
        "            #load test data\n",
        "            matname = 'DVBSAPSK_pred_%d' % (x)\n",
        "            mat = spio.loadmat(matname, squeeze_me=True)\n",
        "            x_test = mat['train_data']\n",
        "\n",
        "            predictions = model.predict(x_test)\n",
        "\n",
        "            #save predictions\n",
        "            matname = 'DVBSAPSK_out_snr_%d_%d_mdl_%d.mat' % (snrs, x, i)\n",
        "            spio.savemat(matname, {'pred': predictions})\n",
        "    i+=1; "
      ]
    },
    {
      "cell_type": "markdown",
      "metadata": {
        "id": "745A0ydgLzxC"
      },
      "source": [
        "Train Data window = 1"
      ]
    },
    {
      "cell_type": "code",
      "execution_count": null,
      "metadata": {
        "id": "y7WwwJmjL1wW"
      },
      "outputs": [],
      "source": [
        "start_time = time.time()\n",
        "\n",
        "#parameters\n",
        "num_classes = 2\n",
        "batch_size = 64\n",
        "epochs = 100\n",
        "\n",
        "%cd /content/drive/My Drive/NN\\ Input/AWGN\\ Only/Train\\ Data/wnd1\n",
        "snrs = [2, 10, 23]\n",
        "\n",
        "for snr in snrs: \n",
        "    matname = 'DVBSAPSK_data_snr_%d.mat' % (snr)\n",
        "    mat = spio.loadmat(matname, squeeze_me=True)\n",
        "    x_train = mat['x_train']\n",
        "    x_valid = mat['val_data']\n",
        "    y_valid = mat['val_target']\n",
        "    y_train = mat['y_train']\n",
        "\n",
        "\n",
        "    #cast to float32\n",
        "    x_train = x_train.astype('float32')\n",
        "    x_valid = x_valid.astype('float32')\n",
        "    #x_test = x_test.astype('float32') \n",
        "\n",
        "    print(x_train.shape, 'train samples')\n",
        "    print(x_valid.shape, 'valid samples')\n",
        "\n",
        "    print(y_train.shape, 'train labels')\n",
        "    print(y_valid.shape, 'valid labels')\n",
        "\n",
        "    print('Label Examples:\\n', y_train)\n",
        "    print('Input Examples:\\n', x_train)\n",
        "\n",
        "    # Define the network\n",
        "    model = Sequential()\n",
        "    model.add(Dense(50, activation='elu', input_dim=2))\n",
        "    model.add(Dense(50, activation='elu'))\n",
        "    model.add(Dense(num_classes, activation='tanh'))\n",
        "\n",
        "    model.summary()\n",
        "\n",
        "    model.compile(loss=keras.metrics.mean_squared_error,\n",
        "                optimizer=SGD(learning_rate=0.1),\n",
        "                metrics=[keras.metrics.RootMeanSquaredError(name='rmse')])\n",
        "\n",
        "    history = model.fit(x_train, y_train,\n",
        "                        batch_size=batch_size,\n",
        "                        epochs=epochs,\n",
        "                        verbose=2,\n",
        "                        validation_data=(x_valid, y_valid))\n",
        "\n",
        "    elapsedTime = (time.time() - start_time)/60\n",
        "    print(\"--- %.2f minutes ---\" % elapsedTime)\n",
        "\n",
        "    score = model.evaluate(x_train, y_train, verbose=2)\n",
        "    print('Final Training MSE:', score[0])\n",
        "    print('Final Training RMSE:', score[1])\n",
        "\n",
        "    #save model\n",
        "    savename = 'DVBSAPSK_SNR_%d_wnd1.h5' % (snr)\n",
        "    %cd /content/drive/My Drive/NN\\ Input/AWGN\\ Only/Saved\\ Models\n",
        "    model.save(savename)\n",
        "    %cd /content/drive/My Drive/NN\\ Input/AWGN\\ Only/Train\\ Data/wnd1"
      ]
    },
    {
      "cell_type": "markdown",
      "metadata": {
        "id": "r4eQMYx0GgRl"
      },
      "source": [
        "test data window = 1"
      ]
    },
    {
      "cell_type": "code",
      "execution_count": null,
      "metadata": {
        "colab": {
          "background_save": true,
          "base_uri": "https://localhost:8080/"
        },
        "id": "9S1zvpzsGf8O",
        "outputId": "1aa2a46b-a8ff-4666-9113-1e29b88b566d"
      },
      "outputs": [
        {
          "name": "stdout",
          "output_type": "stream",
          "text": [
            "/content/drive/My Drive/NN Input/AWGN Only/Saved Models\n",
            "/content/drive/My Drive/NN Input/AWGN Only/Test Data/wnd1\n",
            "/content/drive/My Drive/NN Input/AWGN Only/Test Data/wnd1/SNR_-2\n",
            "/content/drive/My Drive/NN Input/AWGN Only/Test Data/wnd1\n",
            "/content/drive/My Drive/NN Input/AWGN Only/Test Data/wnd1/SNR_-1\n",
            "/content/drive/My Drive/NN Input/AWGN Only/Test Data/wnd1\n",
            "/content/drive/My Drive/NN Input/AWGN Only/Test Data/wnd1/SNR_0\n",
            "/content/drive/My Drive/NN Input/AWGN Only/Test Data/wnd1\n",
            "/content/drive/My Drive/NN Input/AWGN Only/Test Data/wnd1/SNR_1\n",
            "/content/drive/My Drive/NN Input/AWGN Only/Test Data/wnd1\n",
            "/content/drive/My Drive/NN Input/AWGN Only/Test Data/wnd1/SNR_2\n",
            "/content/drive/My Drive/NN Input/AWGN Only/Test Data/wnd1\n",
            "/content/drive/My Drive/NN Input/AWGN Only/Test Data/wnd1/SNR_3\n",
            "/content/drive/My Drive/NN Input/AWGN Only/Test Data/wnd1\n",
            "/content/drive/My Drive/NN Input/AWGN Only/Test Data/wnd1/SNR_4\n",
            "/content/drive/My Drive/NN Input/AWGN Only/Test Data/wnd1\n",
            "/content/drive/My Drive/NN Input/AWGN Only/Test Data/wnd1/SNR_5\n",
            "/content/drive/My Drive/NN Input/AWGN Only/Test Data/wnd1\n",
            "/content/drive/My Drive/NN Input/AWGN Only/Test Data/wnd1/SNR_6\n",
            "/content/drive/My Drive/NN Input/AWGN Only/Test Data/wnd1\n",
            "/content/drive/My Drive/NN Input/AWGN Only/Test Data/wnd1/SNR_7\n",
            "/content/drive/My Drive/NN Input/AWGN Only/Test Data/wnd1\n",
            "/content/drive/My Drive/NN Input/AWGN Only/Test Data/wnd1/SNR_8\n",
            "/content/drive/My Drive/NN Input/AWGN Only/Test Data/wnd1\n",
            "/content/drive/My Drive/NN Input/AWGN Only/Test Data/wnd1/SNR_9\n",
            "/content/drive/My Drive/NN Input/AWGN Only/Test Data/wnd1\n",
            "/content/drive/My Drive/NN Input/AWGN Only/Test Data/wnd1/SNR_10\n",
            "/content/drive/My Drive/NN Input/AWGN Only/Test Data/wnd1\n",
            "/content/drive/My Drive/NN Input/AWGN Only/Test Data/wnd1/SNR_11\n",
            "/content/drive/My Drive/NN Input/AWGN Only/Test Data/wnd1\n",
            "/content/drive/My Drive/NN Input/AWGN Only/Test Data/wnd1/SNR_12\n",
            "/content/drive/My Drive/NN Input/AWGN Only/Test Data/wnd1\n",
            "/content/drive/My Drive/NN Input/AWGN Only/Test Data/wnd1/SNR_13\n",
            "/content/drive/My Drive/NN Input/AWGN Only/Test Data/wnd1\n",
            "/content/drive/My Drive/NN Input/AWGN Only/Test Data/wnd1/SNR_14\n",
            "/content/drive/My Drive/NN Input/AWGN Only/Test Data/wnd1\n",
            "/content/drive/My Drive/NN Input/AWGN Only/Test Data/wnd1/SNR_15\n",
            "/content/drive/My Drive/NN Input/AWGN Only/Test Data/wnd1\n",
            "/content/drive/My Drive/NN Input/AWGN Only/Test Data/wnd1/SNR_16\n",
            "/content/drive/My Drive/NN Input/AWGN Only/Test Data/wnd1\n",
            "/content/drive/My Drive/NN Input/AWGN Only/Test Data/wnd1/SNR_17\n",
            "/content/drive/My Drive/NN Input/AWGN Only/Test Data/wnd1\n",
            "/content/drive/My Drive/NN Input/AWGN Only/Test Data/wnd1/SNR_18\n",
            "/content/drive/My Drive/NN Input/AWGN Only/Test Data/wnd1\n",
            "/content/drive/My Drive/NN Input/AWGN Only/Test Data/wnd1/SNR_19\n",
            "/content/drive/My Drive/NN Input/AWGN Only/Test Data/wnd1\n",
            "/content/drive/My Drive/NN Input/AWGN Only/Test Data/wnd1/SNR_20\n",
            "/content/drive/My Drive/NN Input/AWGN Only/Test Data/wnd1\n",
            "/content/drive/My Drive/NN Input/AWGN Only/Test Data/wnd1/SNR_21\n",
            "/content/drive/My Drive/NN Input/AWGN Only/Test Data/wnd1\n",
            "/content/drive/My Drive/NN Input/AWGN Only/Test Data/wnd1/SNR_22\n",
            "/content/drive/My Drive/NN Input/AWGN Only/Test Data/wnd1\n",
            "/content/drive/My Drive/NN Input/AWGN Only/Test Data/wnd1/SNR_23\n",
            "/content/drive/My Drive/NN Input/AWGN Only/Saved Models\n",
            "/content/drive/My Drive/NN Input/AWGN Only/Test Data/wnd1\n",
            "/content/drive/My Drive/NN Input/AWGN Only/Test Data/wnd1/SNR_-2\n",
            "/content/drive/My Drive/NN Input/AWGN Only/Test Data/wnd1\n",
            "/content/drive/My Drive/NN Input/AWGN Only/Test Data/wnd1/SNR_-1\n",
            "/content/drive/My Drive/NN Input/AWGN Only/Test Data/wnd1\n",
            "/content/drive/My Drive/NN Input/AWGN Only/Test Data/wnd1/SNR_0\n",
            "/content/drive/My Drive/NN Input/AWGN Only/Test Data/wnd1\n",
            "/content/drive/My Drive/NN Input/AWGN Only/Test Data/wnd1/SNR_1\n",
            "/content/drive/My Drive/NN Input/AWGN Only/Test Data/wnd1\n",
            "/content/drive/My Drive/NN Input/AWGN Only/Test Data/wnd1/SNR_2\n",
            "/content/drive/My Drive/NN Input/AWGN Only/Test Data/wnd1\n",
            "/content/drive/My Drive/NN Input/AWGN Only/Test Data/wnd1/SNR_3\n",
            "/content/drive/My Drive/NN Input/AWGN Only/Test Data/wnd1\n",
            "/content/drive/My Drive/NN Input/AWGN Only/Test Data/wnd1/SNR_4\n",
            "/content/drive/My Drive/NN Input/AWGN Only/Test Data/wnd1\n",
            "/content/drive/My Drive/NN Input/AWGN Only/Test Data/wnd1/SNR_5\n",
            "/content/drive/My Drive/NN Input/AWGN Only/Test Data/wnd1\n",
            "/content/drive/My Drive/NN Input/AWGN Only/Test Data/wnd1/SNR_6\n",
            "/content/drive/My Drive/NN Input/AWGN Only/Test Data/wnd1\n",
            "/content/drive/My Drive/NN Input/AWGN Only/Test Data/wnd1/SNR_7\n",
            "/content/drive/My Drive/NN Input/AWGN Only/Test Data/wnd1\n",
            "/content/drive/My Drive/NN Input/AWGN Only/Test Data/wnd1/SNR_8\n",
            "/content/drive/My Drive/NN Input/AWGN Only/Test Data/wnd1\n",
            "/content/drive/My Drive/NN Input/AWGN Only/Test Data/wnd1/SNR_9\n",
            "/content/drive/My Drive/NN Input/AWGN Only/Test Data/wnd1\n",
            "/content/drive/My Drive/NN Input/AWGN Only/Test Data/wnd1/SNR_10\n",
            "/content/drive/My Drive/NN Input/AWGN Only/Test Data/wnd1\n",
            "/content/drive/My Drive/NN Input/AWGN Only/Test Data/wnd1/SNR_11\n",
            "/content/drive/My Drive/NN Input/AWGN Only/Test Data/wnd1\n",
            "/content/drive/My Drive/NN Input/AWGN Only/Test Data/wnd1/SNR_12\n",
            "/content/drive/My Drive/NN Input/AWGN Only/Test Data/wnd1\n",
            "/content/drive/My Drive/NN Input/AWGN Only/Test Data/wnd1/SNR_13\n",
            "/content/drive/My Drive/NN Input/AWGN Only/Test Data/wnd1\n",
            "/content/drive/My Drive/NN Input/AWGN Only/Test Data/wnd1/SNR_14\n",
            "/content/drive/My Drive/NN Input/AWGN Only/Test Data/wnd1\n",
            "/content/drive/My Drive/NN Input/AWGN Only/Test Data/wnd1/SNR_15\n",
            "/content/drive/My Drive/NN Input/AWGN Only/Test Data/wnd1\n",
            "/content/drive/My Drive/NN Input/AWGN Only/Test Data/wnd1/SNR_16\n",
            "/content/drive/My Drive/NN Input/AWGN Only/Test Data/wnd1\n",
            "/content/drive/My Drive/NN Input/AWGN Only/Test Data/wnd1/SNR_17\n",
            "/content/drive/My Drive/NN Input/AWGN Only/Test Data/wnd1\n",
            "/content/drive/My Drive/NN Input/AWGN Only/Test Data/wnd1/SNR_18\n",
            "/content/drive/My Drive/NN Input/AWGN Only/Test Data/wnd1\n",
            "/content/drive/My Drive/NN Input/AWGN Only/Test Data/wnd1/SNR_19\n",
            "/content/drive/My Drive/NN Input/AWGN Only/Test Data/wnd1\n",
            "/content/drive/My Drive/NN Input/AWGN Only/Test Data/wnd1/SNR_20\n",
            "/content/drive/My Drive/NN Input/AWGN Only/Test Data/wnd1\n",
            "/content/drive/My Drive/NN Input/AWGN Only/Test Data/wnd1/SNR_21\n",
            "/content/drive/My Drive/NN Input/AWGN Only/Test Data/wnd1\n",
            "/content/drive/My Drive/NN Input/AWGN Only/Test Data/wnd1/SNR_22\n",
            "/content/drive/My Drive/NN Input/AWGN Only/Test Data/wnd1\n",
            "/content/drive/My Drive/NN Input/AWGN Only/Test Data/wnd1/SNR_23\n",
            "/content/drive/My Drive/NN Input/AWGN Only/Saved Models\n",
            "/content/drive/My Drive/NN Input/AWGN Only/Test Data/wnd1\n",
            "/content/drive/My Drive/NN Input/AWGN Only/Test Data/wnd1/SNR_-2\n",
            "/content/drive/My Drive/NN Input/AWGN Only/Test Data/wnd1\n",
            "/content/drive/My Drive/NN Input/AWGN Only/Test Data/wnd1/SNR_-1\n",
            "/content/drive/My Drive/NN Input/AWGN Only/Test Data/wnd1\n",
            "/content/drive/My Drive/NN Input/AWGN Only/Test Data/wnd1/SNR_0\n",
            "/content/drive/My Drive/NN Input/AWGN Only/Test Data/wnd1\n",
            "/content/drive/My Drive/NN Input/AWGN Only/Test Data/wnd1/SNR_1\n",
            "/content/drive/My Drive/NN Input/AWGN Only/Test Data/wnd1\n",
            "/content/drive/My Drive/NN Input/AWGN Only/Test Data/wnd1/SNR_2\n",
            "/content/drive/My Drive/NN Input/AWGN Only/Test Data/wnd1\n",
            "/content/drive/My Drive/NN Input/AWGN Only/Test Data/wnd1/SNR_3\n",
            "/content/drive/My Drive/NN Input/AWGN Only/Test Data/wnd1\n",
            "/content/drive/My Drive/NN Input/AWGN Only/Test Data/wnd1/SNR_4\n",
            "/content/drive/My Drive/NN Input/AWGN Only/Test Data/wnd1\n",
            "/content/drive/My Drive/NN Input/AWGN Only/Test Data/wnd1/SNR_5\n",
            "/content/drive/My Drive/NN Input/AWGN Only/Test Data/wnd1\n",
            "/content/drive/My Drive/NN Input/AWGN Only/Test Data/wnd1/SNR_6\n",
            "/content/drive/My Drive/NN Input/AWGN Only/Test Data/wnd1\n",
            "/content/drive/My Drive/NN Input/AWGN Only/Test Data/wnd1/SNR_7\n",
            "/content/drive/My Drive/NN Input/AWGN Only/Test Data/wnd1\n",
            "/content/drive/My Drive/NN Input/AWGN Only/Test Data/wnd1/SNR_8\n",
            "/content/drive/My Drive/NN Input/AWGN Only/Test Data/wnd1\n",
            "/content/drive/My Drive/NN Input/AWGN Only/Test Data/wnd1/SNR_9\n",
            "/content/drive/My Drive/NN Input/AWGN Only/Test Data/wnd1\n",
            "/content/drive/My Drive/NN Input/AWGN Only/Test Data/wnd1/SNR_10\n",
            "/content/drive/My Drive/NN Input/AWGN Only/Test Data/wnd1\n",
            "/content/drive/My Drive/NN Input/AWGN Only/Test Data/wnd1/SNR_11\n",
            "/content/drive/My Drive/NN Input/AWGN Only/Test Data/wnd1\n",
            "/content/drive/My Drive/NN Input/AWGN Only/Test Data/wnd1/SNR_12\n",
            "/content/drive/My Drive/NN Input/AWGN Only/Test Data/wnd1\n",
            "/content/drive/My Drive/NN Input/AWGN Only/Test Data/wnd1/SNR_13\n",
            "/content/drive/My Drive/NN Input/AWGN Only/Test Data/wnd1\n",
            "/content/drive/My Drive/NN Input/AWGN Only/Test Data/wnd1/SNR_14\n",
            "/content/drive/My Drive/NN Input/AWGN Only/Test Data/wnd1\n",
            "/content/drive/My Drive/NN Input/AWGN Only/Test Data/wnd1/SNR_15\n",
            "/content/drive/My Drive/NN Input/AWGN Only/Test Data/wnd1\n",
            "/content/drive/My Drive/NN Input/AWGN Only/Test Data/wnd1/SNR_16\n",
            "/content/drive/My Drive/NN Input/AWGN Only/Test Data/wnd1\n",
            "/content/drive/My Drive/NN Input/AWGN Only/Test Data/wnd1/SNR_17\n",
            "/content/drive/My Drive/NN Input/AWGN Only/Test Data/wnd1\n",
            "/content/drive/My Drive/NN Input/AWGN Only/Test Data/wnd1/SNR_18\n",
            "/content/drive/My Drive/NN Input/AWGN Only/Test Data/wnd1\n",
            "/content/drive/My Drive/NN Input/AWGN Only/Test Data/wnd1/SNR_19\n",
            "/content/drive/My Drive/NN Input/AWGN Only/Test Data/wnd1\n",
            "/content/drive/My Drive/NN Input/AWGN Only/Test Data/wnd1/SNR_20\n",
            "/content/drive/My Drive/NN Input/AWGN Only/Test Data/wnd1\n",
            "/content/drive/My Drive/NN Input/AWGN Only/Test Data/wnd1/SNR_21\n",
            "/content/drive/My Drive/NN Input/AWGN Only/Test Data/wnd1\n",
            "/content/drive/My Drive/NN Input/AWGN Only/Test Data/wnd1/SNR_22\n",
            "/content/drive/My Drive/NN Input/AWGN Only/Test Data/wnd1\n",
            "/content/drive/My Drive/NN Input/AWGN Only/Test Data/wnd1/SNR_23\n"
          ]
        }
      ],
      "source": [
        "#load model and make predictions\n",
        "i = 0\n",
        "model_names = ['DVBSAPSK_SNR_2_wnd1.h5','DVBSAPSK_SNR_10_wnd1.h5','DVBSAPSK_SNR_23_wnd1.h5']\n",
        "\n",
        "for name in model_names: \n",
        "    %cd /content/drive/My Drive/NN\\ Input/AWGN\\ Only/Saved\\ Models\n",
        "    model = tf.keras.models.load_model(name)\n",
        "\n",
        "    snr = list(range(-2,24))\n",
        "\n",
        "    for snrs in snr:\n",
        "        foldername = 'SNR_%d' % snrs\n",
        "        %cd /content/drive/My Drive/NN\\ Input/AWGN\\ Only/Test\\ Data/wnd1\n",
        "        %cd $foldername\n",
        "        for x in range(1,11):\n",
        "            #load test data\n",
        "            matname = 'DVBSAPSK_pred_%d' % (x)\n",
        "            mat = spio.loadmat(matname, squeeze_me=True)\n",
        "            x_test = mat['train_data']\n",
        "\n",
        "            predictions = model.predict(x_test)\n",
        "\n",
        "            #save predictions\n",
        "            matname = 'DVBSAPSK_out_snr_%d_%d_mdl_%d.mat' % (snrs, x, i)\n",
        "            spio.savemat(matname, {'pred': predictions})\n",
        "    i+=1; "
      ]
    },
    {
      "cell_type": "markdown",
      "metadata": {
        "id": "7YcBg9obCRJJ"
      },
      "source": [
        "#HPA + AWGN + DPD\n"
      ]
    },
    {
      "cell_type": "code",
      "execution_count": null,
      "metadata": {
        "id": "7IQcGzqNCUyQ"
      },
      "outputs": [],
      "source": [
        "#Train model\n",
        "%cd /content/drive/My Drive/NN\\ Input/HPA/DPD/Train\\ Data\n",
        "start_time = time.time()\n",
        "\n",
        "#parameters\n",
        "num_classes = 2\n",
        "batch_size = 64\n",
        "epochs = 100\n",
        "\n",
        "BO = [1,7,30]\n",
        "SNR = [2,10,23]\n",
        "\n",
        "for snr in SNR: \n",
        "    for bo in BO: \n",
        "        matname = 'DVBSAPSK_data_SNR_%d_BO_%d.mat' % (snr, bo)\n",
        "        print(matname)\n",
        "        mat = spio.loadmat(matname, squeeze_me=True)\n",
        "        x_train = mat['x_train']\n",
        "        x_valid = mat['val_data']\n",
        "        y_valid = mat['val_target']\n",
        "        y_train = mat['y_train']\n",
        "\n",
        "\n",
        "        #cast to float32\n",
        "        x_train = x_train.astype('float32')\n",
        "        x_valid = x_valid.astype('float32')\n",
        "        #x_test = x_test.astype('float32') \n",
        "\n",
        "        print(x_train.shape, 'train samples')\n",
        "        print(x_valid.shape, 'valid samples')\n",
        "\n",
        "        print(y_train.shape, 'train labels')\n",
        "        print(y_valid.shape, 'valid labels')\n",
        "\n",
        "        print('Label Examples:\\n', y_train)\n",
        "        print('Input Examples:\\n', x_train)\n",
        "\n",
        "        # Define the network\n",
        "        model = Sequential()\n",
        "        model.add(Dense(50, activation='elu', input_dim=18))\n",
        "        model.add(Dense(50, activation='elu'))\n",
        "        model.add(Dense(num_classes, activation='tanh'))\n",
        "\n",
        "        model.summary()\n",
        "\n",
        "        model.compile(loss=keras.metrics.mean_squared_error,\n",
        "                    optimizer=SGD(learning_rate=0.1),\n",
        "                    metrics=[keras.metrics.RootMeanSquaredError(name='rmse')])\n",
        "\n",
        "        history = model.fit(x_train, y_train,\n",
        "                            batch_size=batch_size,\n",
        "                            epochs=epochs,\n",
        "                            verbose=2,\n",
        "                            validation_data=(x_valid, y_valid))\n",
        "\n",
        "        elapsedTime = (time.time() - start_time)/60\n",
        "        print(\"--- %.2f minutes ---\" % elapsedTime)\n",
        "\n",
        "        savename = 'model_SNR_%d_BO_%d_dpd.h5' % (snr,bo)\n",
        "        model.save(savename)"
      ]
    },
    {
      "cell_type": "markdown",
      "metadata": {
        "id": "BOKru8fpZEnt"
      },
      "source": [
        "Test Data"
      ]
    },
    {
      "cell_type": "code",
      "execution_count": null,
      "metadata": {
        "id": "B-zUDxNfZEVQ"
      },
      "outputs": [],
      "source": [
        "%cd /content/drive/My Drive/NN\\ Input/HPA/DPD/Test\\ Data\n",
        "\n",
        "BO = [1] #backoffs \n",
        "train_snrs = [2] #training snrs\n",
        "snrs = list(range(-2,24))  #snrs\n",
        "\n",
        "start_time = time.time()\n",
        "for train_snr in train_snrs: \n",
        "    for bo in BO: \n",
        "        #make folder for results\n",
        "        foldername = 'BO_%d_trainSNR_%d' % (bo, train_snr) \n",
        "        %mkdir $foldername\n",
        "\n",
        "        %cd /content/drive/My Drive/NN\\ Input/HPA/DPD/Train\\ Data\n",
        "        model_name = 'model_SNR_%d_BO_%d_dpd.h5' % (train_snr, bo)  #format model name\n",
        "        model = tf.keras.models.load_model(model_name) #load trained model at set back off and snr\n",
        "\n",
        "    for snr in snrs:  \n",
        "        #loop through snrs  \n",
        "        for x in range(1,11):\n",
        "            #loop through packets\n",
        "\n",
        "            %cd /content/drive/My Drive/NN\\ Input/HPA/DPD/Test\\ Data\n",
        "            folder = 'BO%d' % (bo)\n",
        "            %cd $folder\n",
        "            matname = 'DVBSAPSK_pred_bo_%d_snr_%d_%d' % (bo, snr, x)\n",
        "            print(matname)\n",
        "            mat = spio.loadmat(matname, squeeze_me=True) #load data\n",
        "            x_test = mat['train_data']\n",
        "            \n",
        "            %cd .. \n",
        "            predictions = model.predict(x_test) #make predictions\n",
        "            %cd $foldername \n",
        "\n",
        "            #save predictions \n",
        "            matname = 'DVBSAPSK_out_bo_%d_snr_%d_%d.mat' % (bo,snr,x)\n",
        "            spio.savemat(matname, {'pred': predictions})\n",
        "\n",
        "            %cd /content/drive/My Drive/NN\\ Input/HPA/DPD/Test\\ Data\n",
        "\n",
        "elapsedTime = (time.time() - start_time)/60\n",
        "print(\"--- %.2f minutes ---\" % elapsedTime)"
      ]
    }
  ],
  "metadata": {
    "colab": {
      "collapsed_sections": [
        "JYcnWMBfSiw9",
        "xYG2AFZpSqpE",
        "UXmy9qlu18Cp",
        "4SL_Ad77w95i",
        "kdbyuFIXduGj",
        "k1oxp89VDwAZ",
        "Grsct52uIxVY",
        "WvIOKe8hjGVs",
        "7YcBg9obCRJJ"
      ],
      "name": "FFNN_DVBSAPSK.ipynb",
      "provenance": [],
      "authorship_tag": "ABX9TyP/MtHCpZW6j1j1nA4M1Zf+",
      "include_colab_link": true
    },
    "kernelspec": {
      "display_name": "Python 3",
      "name": "python3"
    },
    "language_info": {
      "name": "python"
    }
  },
  "nbformat": 4,
  "nbformat_minor": 0
}