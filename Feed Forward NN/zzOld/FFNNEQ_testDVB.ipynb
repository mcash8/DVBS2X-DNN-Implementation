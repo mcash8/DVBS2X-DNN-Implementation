{
  "nbformat": 4,
  "nbformat_minor": 0,
  "metadata": {
    "colab": {
      "name": "FFNNEQ_testDVB.ipynb",
      "provenance": [],
      "authorship_tag": "ABX9TyPAYCOhPfMSK61M/zypHW8I",
      "include_colab_link": true
    },
    "kernelspec": {
      "name": "python3",
      "display_name": "Python 3"
    },
    "language_info": {
      "name": "python"
    }
  },
  "cells": [
    {
      "cell_type": "markdown",
      "metadata": {
        "id": "view-in-github",
        "colab_type": "text"
      },
      "source": [
        "<a href=\"https://colab.research.google.com/github/mcash8/DVBS2X-DNN-Implementation/blob/main/Feed%20Forward%20NN/FFNNEQ_testDVB.ipynb\" target=\"_parent\"><img src=\"https://colab.research.google.com/assets/colab-badge.svg\" alt=\"Open In Colab\"/></a>"
      ]
    },
    {
      "cell_type": "code",
      "execution_count": 1,
      "metadata": {
        "colab": {
          "base_uri": "https://localhost:8080/"
        },
        "id": "U9JbW9Pf0UaY",
        "outputId": "d0704cd5-3d77-4e12-dead-2c62fbaa8851"
      },
      "outputs": [
        {
          "output_type": "stream",
          "name": "stdout",
          "text": [
            "Mounted at /content/drive\n"
          ]
        }
      ],
      "source": [
        "from google.colab import drive\n",
        "drive.mount('/content/drive')"
      ]
    },
    {
      "cell_type": "code",
      "source": [
        "import os\n",
        "import scipy.io as spio\n",
        "import math\n",
        "import time\n",
        "import pandas as pd\n",
        "import numpy as np\n",
        "from tensorflow import keras\n",
        "from tensorflow.keras.models import Sequential\n",
        "from tensorflow.keras.layers import Dense, Dropout\n",
        "from tensorflow.keras.optimizers import SGD\n",
        "from tensorflow.keras.losses import MeanSquaredError\n",
        "\n",
        "\n",
        "start_time = time.time()\n",
        "\n",
        "#parameters\n",
        "num_classes = 2\n",
        "batch_size = 64\n",
        "epochs = 100\n",
        "\n",
        "%cd /content/drive/My Drive/NN\\ Input/debug\n",
        "matname = 'deepSNR10_dvb_wnd7.mat'\n",
        "mat = spio.loadmat(matname, squeeze_me=True)\n",
        "x_train = mat['x']\n",
        "x_valid = mat['x_val']\n",
        "x_test = mat['x_test']\n",
        "y_train = mat['y']\n",
        "y_valid = mat['y_val']\n",
        "\n",
        "#cast to float32\n",
        "x_train = x_train.astype('float32')\n",
        "x_valid = x_valid.astype('float32')\n",
        "x_test = x_test.astype('float32') \n",
        "\n",
        "print(x_train.shape, 'train samples')\n",
        "print(x_valid.shape, 'valid samples')\n",
        "\n",
        "print(y_train.shape, 'train labels')\n",
        "print(y_valid.shape, 'valid labels')\n",
        "\n",
        "print('Label Examples:\\n', y_train[0:9])\n",
        "print('Input Examples:\\n', x_train[0])\n",
        "\n",
        "# Define the network\n",
        "model = Sequential()\n",
        "model.add(Dense(36, activation='elu', input_dim=18))\n",
        "model.add(Dense(20, activation='elu'))\n",
        "model.add(Dense(6, activation = 'elu'))\n",
        "model.add(Dense(num_classes, activation='tanh'))\n",
        "\n",
        "model.summary()\n",
        "\n",
        "model.compile(loss=keras.metrics.mean_squared_error,\n",
        "            optimizer=SGD(),\n",
        "            metrics=[keras.metrics.RootMeanSquaredError(name='rmse')])\n",
        "\n",
        "history = model.fit(x_train, y_train,\n",
        "                    batch_size=batch_size,\n",
        "                    epochs=epochs,\n",
        "                    verbose=2,\n",
        "                    validation_data=(x_valid, y_valid))\n",
        "\n",
        "elapsedTime = (time.time() - start_time)/60\n",
        "print(\"--- %.2f minutes ---\" % elapsedTime)\n",
        "\n",
        "score = model.evaluate(x_train, y_train, verbose=2)\n",
        "print('Final Training MSE:', score[0])\n",
        "print('Final Training RMSE:', score[1])\n",
        "\n",
        "score = model.evaluate(x_valid, y_valid, verbose=2)\n",
        "print('Final Validation MSE:', score[0])\n",
        "print('Final Validation RMSE:', score[1])\n",
        "\n",
        "#save model\n",
        "savename = 'deepSNR10_dvb_wnd7.h5'\n",
        "model.save(savename)\n",
        "!cp $savename /content/drive/MyDrive/NN\\ Output/FFNNEq/Saved\\ Models\n",
        "\n",
        "\n",
        "#save history for graphing \n",
        "# convert the history.history dict to a pandas DataFrame:     \n",
        "hist_df = pd.DataFrame(history.history) \n",
        "# save to csv: \n",
        "hist_csv_file = 'history_deepSNR10_dvb_wnd7.csv'\n",
        "with open(hist_csv_file, mode='w') as f:\n",
        "    hist_df.to_csv(f)\n",
        "\n",
        "!cp $hist_csv_file /content/drive/MyDrive/NN\\ Output/FFNNEq/Saved\\ Models\n",
        "\n",
        "#make predictions \n",
        "\n",
        "predictions = model.predict(x_test)\n",
        "matname = 'predictions_deepSNR10_dvb_wnd7.mat'\n",
        "spio.savemat(matname, {'pred': predictions})\n",
        "\n",
        "!cp $matname /content/drive/MyDrive/NN\\ Output/FFNNEq/Saved\\ Models"
      ],
      "metadata": {
        "id": "Y6Djmbb00j0H"
      },
      "execution_count": null,
      "outputs": []
    },
    {
      "cell_type": "code",
      "source": [
        "from pandas import read_csv\n",
        "import matplotlib.pyplot as plt\n",
        "%cd /content/drive/MyDrive/NN\\ Output\n",
        "name = 'deepSNR10_dvb_wnd7.mat'\n",
        "%cd /content/drive/MyDrive/NN\\ Output/FFNNEq/Saved\\ Models\n",
        "hist_csv_file = 'history_deepSNR10_dvb_wnd7.csv'\n",
        "data = read_csv(hist_csv_file)\n",
        "\n",
        "loss_data = data['loss']\n",
        "plt.plot(loss_data)\n",
        "plt.xlabel('Epochs') \n",
        "plt.ylabel('Loss - MSE') \n",
        "plt.title(\"Loss  vs. Epochs\")\n",
        "\n",
        "#save plt\n",
        "plot_name = 'loss_dvb_wnd7.png'\n",
        "plt.savefig(plot_name)\n",
        "!cp $plot_name /content/drive/MyDrive/NN\\ Output/FFNNEq/Saved\\ Models"
      ],
      "metadata": {
        "colab": {
          "base_uri": "https://localhost:8080/",
          "height": 347
        },
        "id": "Gt7n7DNYMI5h",
        "outputId": "17c239b3-8be9-4a05-bfdc-f6c515098c63"
      },
      "execution_count": 4,
      "outputs": [
        {
          "output_type": "stream",
          "name": "stdout",
          "text": [
            "/content/drive/MyDrive/NN Output\n",
            "/content/drive/MyDrive/NN Output/FFNNEq/Saved Models\n",
            "cp: 'loss_dvb_wnd7.png' and '/content/drive/MyDrive/NN Output/FFNNEq/Saved Models/loss_dvb_wnd7.png' are the same file\n"
          ]
        },
        {
          "output_type": "display_data",
          "data": {
            "image/png": "[encoded data removed]",
            "text/plain": [
              "<Figure size 432x288 with 1 Axes>"
            ]
          },
          "metadata": {
            "needs_background": "light"
          }
        }
      ]
    }
  ]
}
