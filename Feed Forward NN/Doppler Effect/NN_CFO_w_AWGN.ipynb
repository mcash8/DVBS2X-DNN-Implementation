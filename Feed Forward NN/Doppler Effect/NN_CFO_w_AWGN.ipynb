{
  "nbformat": 4,
  "nbformat_minor": 0,
  "metadata": {
    "colab": {
      "name": "NN CFO w/ AWGN.ipynb",
      "provenance": [],
      "collapsed_sections": [],
      "authorship_tag": "ABX9TyNjI/mEMy2SfIGN6tm9wgRr",
      "include_colab_link": true
    },
    "kernelspec": {
      "name": "python3",
      "display_name": "Python 3"
    },
    "language_info": {
      "name": "python"
    }
  },
  "cells": [
    {
      "cell_type": "markdown",
      "metadata": {
        "id": "view-in-github",
        "colab_type": "text"
      },
      "source": [
        "<a href=\"https://colab.research.google.com/github/mcash8/DVBS2X-DNN-Implementation/blob/main/Feed%20Forward%20NN/Doppler%20Effect/NN_CFO_w_AWGN.ipynb\" target=\"_parent\"><img src=\"https://colab.research.google.com/assets/colab-badge.svg\" alt=\"Open In Colab\"/></a>"
      ]
    },
    {
      "cell_type": "code",
      "execution_count": 1,
      "metadata": {
        "id": "dhRC7QKm8cJ9",
        "colab": {
          "base_uri": "https://localhost:8080/"
        },
        "outputId": "f9d0214a-92fd-4af4-ea1b-eb09bf0d51a7"
      },
      "outputs": [
        {
          "output_type": "stream",
          "name": "stdout",
          "text": [
            "Mounted at /content/drive\n"
          ]
        }
      ],
      "source": [
        "from google.colab import drive\n",
        "drive.mount('/content/drive')"
      ]
    },
    {
      "cell_type": "code",
      "source": [
        "import os\n",
        "import scipy.io as spio\n",
        "import math\n",
        "import time\n",
        "import pandas as pd\n",
        "from pandas import read_csv\n",
        "import matplotlib.pyplot as plt\n",
        "import numpy as np\n",
        "\n",
        "import tensorflow as tf\n",
        "from tensorflow import keras\n",
        "from tensorflow.keras.models import Sequential\n",
        "from tensorflow.keras.layers import Dense, Dropout\n",
        "from tensorflow.keras.optimizers import SGD\n",
        "from tensorflow.keras.losses import MeanSquaredError"
      ],
      "metadata": {
        "id": "EP3QG4sj8pkw"
      },
      "execution_count": 2,
      "outputs": []
    },
    {
      "cell_type": "code",
      "source": [
        "#Train model\n",
        "%cd /content/drive/My Drive/NN\\ Input/Doppler/AWGN/Train\\ Data\n",
        "start_time = time.time()\n",
        "\n",
        "#parameters\n",
        "num_classes = 2\n",
        "batch_size = 64\n",
        "epochs = 100\n",
        "\n",
        "SNRs = [-2,10,23]\n",
        "del_f = [5,20,40,70]\n",
        "\n",
        "for SNR in SNRs:\n",
        "    for ratio in del_f:\n",
        "\n",
        "        matname = 'DVBS_dopp_ratio_%d_SNR_%d' % (ratio, SNR)\n",
        "        print(matname)\n",
        "\n",
        "        mat = spio.loadmat(matname, squeeze_me=True)\n",
        "        x_train = mat['x_train']\n",
        "        x_valid = mat['val_data']\n",
        "        y_valid = mat['val_target']\n",
        "        y_train = mat['y_train']\n",
        "\n",
        "         #cast to float32\n",
        "        x_train = x_train.astype('float32')\n",
        "        x_valid = x_valid.astype('float32')\n",
        "        #x_test = x_test.astype('float32') \n",
        "\n",
        "        print(x_train.shape, 'train samples')\n",
        "        print(x_valid.shape, 'valid samples')\n",
        "\n",
        "        print(y_train.shape, 'train labels')\n",
        "        print(y_valid.shape, 'valid labels')\n",
        "\n",
        "        print('Label Examples:\\n', y_train)\n",
        "        print('Input Examples:\\n', x_train)\n",
        "\n",
        "        # Define the network\n",
        "        model = Sequential()\n",
        "        model.add(Dense(50, activation='elu', input_dim=18))\n",
        "        model.add(Dense(50, activation='elu'))\n",
        "        model.add(Dense(num_classes, activation='tanh'))\n",
        "\n",
        "        model.summary()\n",
        "\n",
        "        model.compile(loss=keras.metrics.mean_squared_error,\n",
        "                    optimizer=SGD(learning_rate=0.1),\n",
        "                    metrics=[keras.metrics.RootMeanSquaredError(name='rmse')])\n",
        "\n",
        "        history = model.fit(x_train, y_train,\n",
        "                            batch_size=batch_size,\n",
        "                            epochs=epochs,\n",
        "                            verbose=2,\n",
        "                            validation_data=(x_valid, y_valid))\n",
        "\n",
        "        elapsedTime = (time.time() - start_time)/60\n",
        "        print(\"--- %.2f minutes ---\" % elapsedTime)\n",
        "\n",
        "        \n",
        "        savename = 'model_dopp_ratio_%d_SNR_%d.h5' % (ratio, SNR)\n",
        "        model.save(savename)"
      ],
      "metadata": {
        "id": "DR8ZBaqq8rmd"
      },
      "execution_count": null,
      "outputs": []
    },
    {
      "cell_type": "markdown",
      "source": [
        "test"
      ],
      "metadata": {
        "id": "vJgbZt1b-Mbv"
      }
    },
    {
      "cell_type": "code",
      "source": [
        "del_f = [5,20,40,70]\n",
        "SNRs = [-2,10,23]\n",
        "for SNR in SNRs:\n",
        "    for ratio in del_f:\n",
        "        model_name = 'model_dopp_ratio_%d_SNR_%d.h5' % (ratio, SNR)\n",
        "        folder_name = 'ratio_%d' % (ratio)\n",
        "\n",
        "        #load trained model at set alpha and SNR\n",
        "        %cd /content/drive/My Drive/NN\\ Input/Doppler/AWGN/Train\\ Data\n",
        "        model = tf.keras.models.load_model(model_name)\n",
        "\n",
        "        %cd /content/drive/My Drive/NN\\ Input/Doppler/AWGN/Test\\ Data\n",
        "        \n",
        "        %cd $folder_name \n",
        "        for snr in range(-2,24): #all snr values\n",
        "            for i in range(1,11): #loop over 10 test sequences \n",
        "                matname = 'DVBSAPSK_pred_ratio_%d_%d_SNR_%d' % (ratio, i, snr)\n",
        "\n",
        "                mat = spio.loadmat(matname, squeeze_me=True) #load data\n",
        "                x_test = mat['train_data']\n",
        "\n",
        "                predictions = model.predict(x_test) #make predictions\n",
        "\n",
        "                #save predictions \n",
        "                matname = 'DVBSAPSK_out_ratio_%d_%d_SNR_%d_trnSNR_%d.mat' % (ratio, i, snr, SNR)\n",
        "                spio.savemat(matname, {'pred': predictions})\n",
        "\n",
        "        %cd .."
      ],
      "metadata": {
        "id": "U4RfEDilffYh"
      },
      "execution_count": null,
      "outputs": []
    },
    {
      "cell_type": "code",
      "source": [
        "\n",
        "\n"
      ],
      "metadata": {
        "id": "8vJ_MGfe-R5O"
      },
      "execution_count": null,
      "outputs": []
    }
  ]
}