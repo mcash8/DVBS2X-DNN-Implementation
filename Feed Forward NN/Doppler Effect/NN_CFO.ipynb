{
  "cells": [
    {
      "cell_type": "markdown",
      "metadata": {
        "id": "view-in-github",
        "colab_type": "text"
      },
      "source": [
        "<a href=\"https://colab.research.google.com/github/mcash8/DVBS2X-DNN-Implementation/blob/main/Feed%20Forward%20NN/Doppler%20Effect/NN_CFO.ipynb\" target=\"_parent\"><img src=\"https://colab.research.google.com/assets/colab-badge.svg\" alt=\"Open In Colab\"/></a>"
      ]
    },
    {
      "cell_type": "markdown",
      "metadata": {
        "id": "tKfy0M6sVUHh"
      },
      "source": [
        "Mount Drive"
      ]
    },
    {
      "cell_type": "code",
      "execution_count": 1,
      "metadata": {
        "colab": {
          "base_uri": "https://localhost:8080/"
        },
        "id": "XuixCillSS4P",
        "outputId": "df916677-6460-4f54-caad-019cce7134fb"
      },
      "outputs": [
        {
          "output_type": "stream",
          "name": "stdout",
          "text": [
            "Mounted at /content/drive\n"
          ]
        }
      ],
      "source": [
        "from google.colab import drive\n",
        "drive.mount('/content/drive')"
      ]
    },
    {
      "cell_type": "markdown",
      "metadata": {
        "id": "dpZmB2F6VYcP"
      },
      "source": [
        "Imports"
      ]
    },
    {
      "cell_type": "code",
      "execution_count": 2,
      "metadata": {
        "id": "LBZCQGfnVX9s"
      },
      "outputs": [],
      "source": [
        "import os\n",
        "import scipy.io as spio\n",
        "import math\n",
        "import time\n",
        "import pandas as pd\n",
        "from pandas import read_csv\n",
        "import matplotlib.pyplot as plt\n",
        "import numpy as np\n",
        "\n",
        "import tensorflow as tf\n",
        "from tensorflow import keras\n",
        "from tensorflow.keras.models import Sequential\n",
        "from tensorflow.keras.layers import Dense, Dropout\n",
        "from tensorflow.keras.optimizers import SGD\n",
        "from tensorflow.keras.losses import MeanSquaredError"
      ]
    },
    {
      "cell_type": "code",
      "execution_count": null,
      "metadata": {
        "id": "pY9DBuT3WGsd"
      },
      "outputs": [],
      "source": [
        "#Train model\n",
        "%cd /content/drive/My Drive/NN\\ Input/Doppler/Train\\ Data\n",
        "start_time = time.time()\n",
        "\n",
        "#parameters\n",
        "num_classes = 2\n",
        "batch_size = 64\n",
        "epochs = 100\n",
        "\n",
        "ratios = list(range(1,16))\n",
        "\n",
        "for ratio in ratios: \n",
        "    matname = 'DVBS_dopp_ratio_%d' % (ratio)\n",
        "    print(matname)\n",
        "    mat = spio.loadmat(matname, squeeze_me=True)\n",
        "    x_train = mat['x_train']\n",
        "    x_valid = mat['val_data']\n",
        "    y_valid = mat['val_target']\n",
        "    y_train = mat['y_train']\n",
        "\n",
        "\n",
        "    #cast to float32\n",
        "    x_train = x_train.astype('float32')\n",
        "    x_valid = x_valid.astype('float32')\n",
        "    #x_test = x_test.astype('float32') \n",
        "\n",
        "    print(x_train.shape, 'train samples')\n",
        "    print(x_valid.shape, 'valid samples')\n",
        "\n",
        "    print(y_train.shape, 'train labels')\n",
        "    print(y_valid.shape, 'valid labels')\n",
        "\n",
        "    print('Label Examples:\\n', y_train)\n",
        "    print('Input Examples:\\n', x_train)\n",
        "\n",
        "    # Define the network\n",
        "    model = Sequential()\n",
        "    model.add(Dense(50, activation='elu', input_dim=18))\n",
        "    model.add(Dense(50, activation='elu'))\n",
        "    model.add(Dense(num_classes, activation='tanh'))\n",
        "\n",
        "    model.summary()\n",
        "\n",
        "    model.compile(loss=keras.metrics.mean_squared_error,\n",
        "                optimizer=SGD(learning_rate=0.1),\n",
        "                metrics=[keras.metrics.RootMeanSquaredError(name='rmse')])\n",
        "\n",
        "    history = model.fit(x_train, y_train,\n",
        "                        batch_size=batch_size,\n",
        "                        epochs=epochs,\n",
        "                        verbose=2,\n",
        "                        validation_data=(x_valid, y_valid))\n",
        "\n",
        "    elapsedTime = (time.time() - start_time)/60\n",
        "    print(\"--- %.2f minutes ---\" % elapsedTime)\n",
        "\n",
        "    savename = 'model_dopp_ratio_%d.h5' % (ratio)\n",
        "    model.save(savename)"
      ]
    },
    {
      "cell_type": "markdown",
      "source": [
        "Test trained models. Test sequence is same length and rotation as train data."
      ],
      "metadata": {
        "id": "VjKYVlvbnLp5"
      }
    },
    {
      "cell_type": "code",
      "source": [
        "ratios = list(range(2,16))\n",
        "\n",
        "for ratio in ratios:\n",
        "    model_name = 'model_dopp_ratio_%d.h5' % (ratio)\n",
        "    folder_name = 'ratio_%d' % (ratio)\n",
        "\n",
        "    #load trained model \n",
        "    %cd /content/drive/My Drive/NN\\ Input/Doppler/Train\\ Data\n",
        "    model = tf.keras.models.load_model(model_name)\n",
        "\n",
        "    %cd /content/drive/My Drive/NN\\ Input/Doppler/Test\\ Data\n",
        "    \n",
        "    %cd $folder_name \n",
        "    \n",
        "    for i in range(1,11): #loop over 10 test sequences \n",
        "        matname = 'DVBSAPSK_pred_ratio_%d_%d' % (ratio, i)\n",
        "\n",
        "        mat = spio.loadmat(matname, squeeze_me=True) #load data\n",
        "        x_test = mat['train_data']\n",
        "\n",
        "        predictions = model.predict(x_test) #make predictions\n",
        "\n",
        "        #save predictions \n",
        "        matname = 'DVBSAPSK_out_ratio_%d_%d.mat' % (ratio, i)\n",
        "        spio.savemat(matname, {'pred': predictions})\n",
        "\n",
        "    %cd ..\n",
        "    "
      ],
      "metadata": {
        "id": "XnClXG7St0nY"
      },
      "execution_count": null,
      "outputs": []
    },
    {
      "cell_type": "markdown",
      "source": [
        "Test if sequence length significantly matters in NN output"
      ],
      "metadata": {
        "id": "J2GZxfNllzy0"
      }
    },
    {
      "cell_type": "code",
      "source": [
        "ratios = list(range(1,16))\n",
        "#two foor loops, start with short length first, then long length \n",
        "\n",
        "main_folder = 'short_len'\n",
        "for ratio in ratios:\n",
        "    model_name = 'model_dopp_ratio_%d.h5' % (ratio)\n",
        "    folder_name = 'ratio_%d' % (ratio)\n",
        "\n",
        "    #load trained model \n",
        "    %cd /content/drive/My Drive/NN\\ Input/Doppler/Train\\ Data\n",
        "    model = tf.keras.models.load_model(model_name)\n",
        "\n",
        "    %cd /content/drive/My Drive/NN\\ Input/Doppler/Test\\ Data\n",
        "\n",
        "    %cd $main_folder\n",
        "    %cd $folder_name \n",
        "    \n",
        "    for i in range(1,11): #loop over 10 test sequences \n",
        "        matname = 'DVBSAPSK_pred_ratio_%d_%d' % (ratio, i)\n",
        "\n",
        "        mat = spio.loadmat(matname, squeeze_me=True) #load data\n",
        "        x_test = mat['train_data']\n",
        "\n",
        "        predictions = model.predict(x_test) #make predictions\n",
        "\n",
        "        #save predictions \n",
        "        matname = 'DVBSAPSK_out_ratio_%d_%d.mat' % (ratio, i)\n",
        "        spio.savemat(matname, {'pred': predictions})\n",
        "\n",
        "    %cd ..\n",
        "    %cd ..\n",
        "\n",
        "\n",
        "main_folder = 'long_len'\n",
        "for ratio in ratios:\n",
        "    model_name = 'model_dopp_ratio_%d.h5' % (ratio)\n",
        "    folder_name = 'ratio_%d' % (ratio)\n",
        "\n",
        "    #load trained model \n",
        "    %cd /content/drive/My Drive/NN\\ Input/Doppler/Train\\ Data\n",
        "    model = tf.keras.models.load_model(model_name)\n",
        "\n",
        "    %cd /content/drive/My Drive/NN\\ Input/Doppler/Test\\ Data\n",
        "\n",
        "    %cd $main_folder\n",
        "    %cd $folder_name \n",
        "    \n",
        "    for i in range(1,11): #loop over 10 test sequences \n",
        "        matname = 'DVBSAPSK_pred_ratio_%d_%d' % (ratio, i)\n",
        "\n",
        "        mat = spio.loadmat(matname, squeeze_me=True) #load data\n",
        "        x_test = mat['train_data']\n",
        "\n",
        "        predictions = model.predict(x_test) #make predictions\n",
        "\n",
        "        #save predictions \n",
        "        matname = 'DVBSAPSK_out_ratio_%d_%d.mat' % (ratio, i)\n",
        "        spio.savemat(matname, {'pred': predictions})\n",
        "\n",
        "    %cd ..\n",
        "    %cd .."
      ],
      "metadata": {
        "id": "XO9_JhWhlxsZ"
      },
      "execution_count": null,
      "outputs": []
    },
    {
      "cell_type": "markdown",
      "source": [
        "Test robustness of NN"
      ],
      "metadata": {
        "id": "--O_6kPpfrJT"
      }
    },
    {
      "cell_type": "code",
      "source": [
        "ratios = list(range(1,16))\n",
        "trained_models = list(range(1,16))\n",
        "\n",
        "main_folder = 'robust_test'\n",
        "\n",
        "%cd /content/drive/My Drive/NN\\ Input/Doppler/Test\\ Data\n",
        "%mkdir $main_folder\n",
        "\n",
        "for trained_model in trained_models:\n",
        "    %cd $main_folder \n",
        "    main_folder_store = 'trained_model_%d_robust' % (trained_model)\n",
        "    #folder for storing predictions from trained model at set alpha\n",
        "    %mkdir $main_folder_store\n",
        "\n",
        "    #load trained model \n",
        "    %cd /content/drive/My Drive/NN\\ Input/Doppler/Train\\ Data\n",
        "    model_name = 'model_dopp_ratio_%d.h5' % (trained_model)\n",
        "    model = tf.keras.models.load_model(model_name)\n",
        "\n",
        "\n",
        "\n",
        "    for ratio in ratios: \n",
        "        #naviagte to test data folder\n",
        "        %cd /content/drive/My Drive/NN\\ Input/Doppler/Test\\ Data\n",
        "        #load data to predict on\n",
        "        folder_name = 'ratio_%d' % (ratio)\n",
        "        %cd $folder_name\n",
        "\n",
        "        for i in range(1,11): #loop over 10 test sequences \n",
        "            matname = 'DVBSAPSK_pred_ratio_%d_%d' % (ratio, i)\n",
        "\n",
        "            mat = spio.loadmat(matname, squeeze_me=True) #load data\n",
        "            x_test = mat['train_data']\n",
        "\n",
        "            predictions = model.predict(x_test) #make predictions\n",
        "\n",
        "            #save predictions \n",
        "            %cd /content/drive/My Drive/NN\\ Input/Doppler/Test\\ Data\n",
        "            %cd $main_folder \n",
        "            %cd $main_folder_store\n",
        "\n",
        "            matname = 'DVBSAPSK_out_ratio_%d_%d.mat' % (ratio, i)\n",
        "            spio.savemat(matname, {'pred': predictions})\n",
        "\n",
        "            %cd /content/drive/My Drive/NN\\ Input/Doppler/Test\\ Data\n",
        "            %cd $folder_name\n",
        "        %cd .."
      ],
      "metadata": {
        "id": "SmhQuJkefxRm"
      },
      "execution_count": null,
      "outputs": []
    }
  ],
  "metadata": {
    "colab": {
      "name": "NN CFO.ipynb",
      "provenance": [],
      "collapsed_sections": [],
      "authorship_tag": "ABX9TyPWHiYEi9rWUfuut7A6uFPl",
      "include_colab_link": true
    },
    "kernelspec": {
      "display_name": "Python 3",
      "name": "python3"
    },
    "language_info": {
      "name": "python"
    }
  },
  "nbformat": 4,
  "nbformat_minor": 0
}