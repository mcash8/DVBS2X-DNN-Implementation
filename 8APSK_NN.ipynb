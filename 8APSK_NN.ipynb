{
  "nbformat": 4,
  "nbformat_minor": 0,
  "metadata": {
    "colab": {
      "name": "8APSK NN.ipynb",
      "provenance": [],
      "collapsed_sections": [],
      "authorship_tag": "ABX9TyNSu3pQ2r/dvg9V1h9Hb6Pi",
      "include_colab_link": true
    },
    "kernelspec": {
      "name": "python3",
      "display_name": "Python 3"
    },
    "language_info": {
      "name": "python"
    }
  },
  "cells": [
    {
      "cell_type": "markdown",
      "metadata": {
        "id": "view-in-github",
        "colab_type": "text"
      },
      "source": [
        "<a href=\"https://colab.research.google.com/github/mcash8/DVBS2X-DNN-Implementation/blob/main/8APSK_NN.ipynb\" target=\"_parent\"><img src=\"https://colab.research.google.com/assets/colab-badge.svg\" alt=\"Open In Colab\"/></a>"
      ]
    },
    {
      "cell_type": "code",
      "execution_count": null,
      "metadata": {
        "colab": {
          "base_uri": "https://localhost:8080/"
        },
        "id": "B6UrOf9Vxrzu",
        "outputId": "cd565c93-5dbb-462d-d39e-b396b7997048"
      },
      "outputs": [
        {
          "output_type": "stream",
          "name": "stdout",
          "text": [
            "Drive already mounted at /content/drive; to attempt to forcibly remount, call drive.mount(\"/content/drive\", force_remount=True).\n"
          ]
        }
      ],
      "source": [
        "from google.colab import drive\n",
        "drive.mount('/content/drive')"
      ]
    },
    {
      "cell_type": "code",
      "source": [
        "import os\n",
        "import scipy.io as spio\n",
        "import math\n",
        "import time\n",
        "import pandas as pd\n",
        "from pandas import read_csv\n",
        "import matplotlib.pyplot as plt\n",
        "import numpy as np\n",
        "\n",
        "import tensorflow as tf\n",
        "from tensorflow import keras\n",
        "from tensorflow.keras.models import Sequential\n",
        "from tensorflow.keras.layers import Dense, Dropout\n",
        "from tensorflow.keras.optimizers import SGD\n",
        "from tensorflow.keras.losses import MeanSquaredError"
      ],
      "metadata": {
        "id": "JHdOAJjlzcob"
      },
      "execution_count": null,
      "outputs": []
    },
    {
      "cell_type": "code",
      "source": [
        "start_time = time.time()\n",
        "\n",
        "#parameters\n",
        "num_classes = 2\n",
        "batch_size = 64\n",
        "epochs = 100\n",
        "\n",
        "%cd /content/drive/My Drive/NN\\ Input/AWGN/8APSK\n",
        "snrs = [2, 10, 23]\n",
        "\n",
        "for snr in snrs: \n",
        "    matname = '8APSK_data_snr_%d.mat' % (snr)\n",
        "    mat = spio.loadmat(matname, squeeze_me=True)\n",
        "    x_train = mat['x_train']\n",
        "    x_valid = mat['val_data']\n",
        "    y_valid = mat['val_target']\n",
        "    y_train = mat['y_train']\n",
        "\n",
        "\n",
        "    #cast to float32\n",
        "    x_train = x_train.astype('float32')\n",
        "    x_valid = x_valid.astype('float32')\n",
        "    #x_test = x_test.astype('float32') \n",
        "\n",
        "    print(x_train.shape, 'train samples')\n",
        "    print(x_valid.shape, 'valid samples')\n",
        "\n",
        "    print(y_train.shape, 'train labels')\n",
        "    print(y_valid.shape, 'valid labels')\n",
        "\n",
        "    print('Label Examples:\\n', y_train)\n",
        "    print('Input Examples:\\n', x_train)\n",
        "\n",
        "    # Define the network\n",
        "    model = Sequential()\n",
        "    model.add(Dense(50, activation='elu', input_dim=18))\n",
        "    model.add(Dense(50, activation='elu'))\n",
        "    model.add(Dense(num_classes, activation='tanh'))\n",
        "\n",
        "    model.summary()\n",
        "\n",
        "    model.compile(loss=keras.metrics.mean_squared_error,\n",
        "                optimizer=SGD(learning_rate=0.1),\n",
        "                metrics=[keras.metrics.RootMeanSquaredError(name='rmse')])\n",
        "\n",
        "    history = model.fit(x_train, y_train,\n",
        "                        batch_size=batch_size,\n",
        "                        epochs=epochs,\n",
        "                        verbose=2,\n",
        "                        validation_data=(x_valid, y_valid))\n",
        "\n",
        "    elapsedTime = (time.time() - start_time)/60\n",
        "    print(\"--- %.2f minutes ---\" % elapsedTime)\n",
        "\n",
        "    score = model.evaluate(x_train, y_train, verbose=2)\n",
        "    print('Final Training MSE:', score[0])\n",
        "    print('Final Training RMSE:', score[1])\n",
        "\n",
        "    #save model\n",
        "    savename = '8APSK_SNR_%d.h5' % (snr)\n",
        "    %cd /content/drive/My Drive/NN\\ Input/AWGN/8APSK\n",
        "    model.save(savename)\n",
        "    %cd /content/drive/My Drive/NN\\ Input/AWGN/8APSK"
      ],
      "metadata": {
        "id": "SaxqkgNXzeak"
      },
      "execution_count": null,
      "outputs": []
    },
    {
      "cell_type": "code",
      "source": [
        "#load model and make predictions\n",
        "i = 0\n",
        "model_names = ['8APSK_SNR_2.h5','8APSK_SNR_10.h5','8APSK_SNR_23.h5']\n",
        "snr = list(range(-2,24))\n",
        "\n",
        "for name in model_names: \n",
        "    %cd /content/drive/My Drive/NN\\ Input/AWGN/8APSK\n",
        "    model = tf.keras.models.load_model(name)\n",
        "    for snrs in snr:\n",
        "        foldername = 'SNR_%d' % snrs\n",
        "        %cd /content/drive/My Drive/NN\\ Input/AWGN/Test\\ Data/8APSK\n",
        "        %cd $foldername\n",
        "        for x in range(1,11):\n",
        "            #load test data\n",
        "            matname = '8APSK_pred_%d' % (x)\n",
        "            mat = spio.loadmat(matname, squeeze_me=True)\n",
        "            x_test = mat['train_data']\n",
        "\n",
        "            predictions = model.predict(x_test)\n",
        "\n",
        "            #save predictions\n",
        "            matname = '8APSK_out_snr_%d_%d_mdl_%d.mat' % (snrs, x, i)\n",
        "            spio.savemat(matname, {'pred': predictions})\n",
        "    i+=1; "
      ],
      "metadata": {
        "id": "BQllWaO6N3Ur"
      },
      "execution_count": null,
      "outputs": []
    }
  ]
}