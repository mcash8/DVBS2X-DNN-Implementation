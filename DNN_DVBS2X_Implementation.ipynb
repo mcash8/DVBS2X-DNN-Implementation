{
  "nbformat": 4,
  "nbformat_minor": 0,
  "metadata": {
    "colab": {
      "name": "DNN DVBS2X Implementation",
      "provenance": [],
      "collapsed_sections": [],
      "authorship_tag": "ABX9TyOYABXLAiT77okS+Nu7pczf"
    },
    "kernelspec": {
      "name": "python3",
      "display_name": "Python 3"
    },
    "language_info": {
      "name": "python"
    }
  },
  "cells": [
    {
      "cell_type": "code",
      "metadata": {
        "id": "kG851CQXAexf"
      },
      "source": [
        "#to do \n",
        "#LSTM -- done\n",
        "#use GPU for training -- (issues with input and model being on different devices)\n",
        "#stack real and imaginary into one array -- (done)\n",
        "#train -- (done)\n",
        "#test -- (done)\n",
        "#save output -- (done) need to fix loop for doing that\n",
        "#import back to matlab (done)"
      ],
      "execution_count": null,
      "outputs": []
    },
    {
      "cell_type": "code",
      "metadata": {
        "id": "qqy9OHMcQmDS"
      },
      "source": [
        "#import libraries \n",
        "import numpy as np\n",
        "\n",
        "#pytorch imports\n",
        "import torch\n",
        "import torch.nn as nn\n",
        "import torch.nn.functional as F\n",
        "import torchvision\n",
        "import torchvision.transforms as transforms\n",
        "import torch.optim as optim\n",
        "from torch.utils.data import DataLoader, TensorDataset, Dataset, random_split\n",
        "\n",
        "#for reading from csv\n",
        "import csv \n",
        "\n",
        "#for plotting \n",
        "import matplotlib.pyplot as plt"
      ],
      "execution_count": 1,
      "outputs": []
    },
    {
      "cell_type": "code",
      "metadata": {
        "id": "4Ipw6bAIucuj"
      },
      "source": [
        "#read input and labels into variables \n",
        "with open('train.csv', 'r') as f: \n",
        "    data = list(csv.reader(f, delimiter=\",\"))\n",
        "\n",
        "data = np.array(data, dtype = 'float32') #convert to numpy array\n",
        "data = torch.from_numpy(data) #convert to torch tensor\n",
        "\n",
        "with open('labels.csv', 'r') as f:\n",
        "    labels = list(csv.reader(f, delimiter=\",\"))\n",
        "\n",
        "labels = np.array(labels, dtype = 'float32') #convert to numpy array\n",
        "labels = torch.from_numpy(labels) #convert to torch tensor \n",
        "\n",
        "with open('test.csv', 'r') as f: \n",
        "    test = list(csv.reader(f, delimiter = \",\"))\n",
        "\n",
        "test = np.array(test, dtype = 'float32') #convert to numpy array\n",
        "test = torch.from_numpy(test) #convert to torch tensor"
      ],
      "execution_count": 94,
      "outputs": []
    },
    {
      "cell_type": "code",
      "metadata": {
        "id": "80yYn4kC8EoA"
      },
      "source": [
        "#create a custom dataset with input and labels \n",
        "class CustomDS(Dataset):\n",
        "    def __init__(self, input, labels):\n",
        "        self.labels = labels\n",
        "        self.input = input\n",
        "\n",
        "    def __len__(self):\n",
        "        return len(self.labels)\n",
        "\n",
        "    def __getitem__(self, idx):\n",
        "        label = self.labels[idx]\n",
        "        data = self.input[idx]\n",
        "        return data, label"
      ],
      "execution_count": 96,
      "outputs": []
    },
    {
      "cell_type": "code",
      "metadata": {
        "id": "ClXRw-Wnt4XN"
      },
      "source": [
        "ds = CustomDS(data, labels) #create a dataset with (corrupted) input and corresponding labels\n",
        "test_ds = CustomDS(test, test)  #create a test datset, ignore the repeated test variable. Will not be used\n",
        "length = len(ds) \n",
        "train_size = int(0.7*length) \n",
        "val_size = int(0.3*length)\n",
        "\n",
        "#get train, validation, and test sets\n",
        "train_ds, val_ds = random_split(ds, [train_size, val_size])\n",
        "\n",
        "#create data loaders\n",
        "batch_size = 10; \n",
        "train_dl = DataLoader(train_ds, batch_size, shuffle = True)\n",
        "val_dl = DataLoader(val_ds, batch_size, shuffle = True)\n",
        "test_dl =DataLoader(test_ds, batch_size, shuffle = False)  #do not shuffle, very important"
      ],
      "execution_count": 97,
      "outputs": []
    },
    {
      "cell_type": "code",
      "metadata": {
        "id": "zuVCptcFxYWm"
      },
      "source": [
        "#define NN\n",
        "class Net(nn.Module):\n",
        "    def __init__(self): \n",
        "    #layer definition here\n",
        "        super().__init__()\n",
        "        self.layers1 = nn.Sequential(\n",
        "            #Conv1\n",
        "            nn.Conv1d(1, 10, 1),\n",
        "            nn.BatchNorm1d(10),\n",
        "            nn.ReLU(),\n",
        "\n",
        "            nn.Conv1d(10, 10, 1),\n",
        "            nn.BatchNorm1d(10),\n",
        "            nn.ReLU(),\n",
        "\n",
        "            #Conv2\n",
        "            nn.Conv1d(10, 20, 1),\n",
        "            nn.BatchNorm1d(20),\n",
        "            nn.ReLU(),\n",
        "\n",
        "            nn.Conv1d(20, 20, 1),\n",
        "            nn.BatchNorm1d(20),\n",
        "            nn.ReLU(),\n",
        "        )\n",
        "\n",
        "        self.lstm1 = nn.LSTM(20, 10, 1, batch_first = True)\n",
        "        self.lstm2 = nn.LSTM(10, 5, 1, batch_first = True)\n",
        "        self.lstm3 = nn.LSTM(5, 10, 1, batch_first = True)\n",
        "        self.lstm4 = nn.LSTM(10, 20, 1, batch_first = True)\n",
        "        \n",
        "        self.layers2 = nn.Sequential(\n",
        "            #Conv3\n",
        "            nn.Conv1d(20, 10, 1),\n",
        "            nn.BatchNorm1d(10),\n",
        "            nn.ReLU(),\n",
        "\n",
        "            nn.Conv1d(10, 10, 1),\n",
        "            nn.BatchNorm1d(10),\n",
        "            nn.ReLU(),\n",
        "\n",
        "            #Conv4\n",
        "            nn.Conv1d(10, 1, 1)\n",
        "        )   \n",
        "       \n",
        "    def forward(self, x): \n",
        "        x = torch.unsqueeze(x, 1) #need this so input is of size (N, Cin, L)\n",
        "        #define hidden state and cell state\n",
        "\n",
        "        #lstm1\n",
        "        h_0 = torch.zeros(1, 10, 10) #(num_layers, batch_size, hidden_state)\n",
        "        c_0 = torch.zeros(1, 10, 10)\n",
        "\n",
        "        h_1 = torch.zeros(1,10, 5)\n",
        "        c_1 = torch.zeros(1,10,5)\n",
        "\n",
        "        h_2 = torch.zeros(1,10, 10)\n",
        "        c_2 = torch.zeros(1, 10, 10)\n",
        "\n",
        "        h_3 = torch.zeros(1, 10, 20)\n",
        "        c_3 = torch.zeros(1, 10, 20)\n",
        "        \n",
        "        out = self.layers1(x) #convolution\n",
        "\n",
        "        out = torch.reshape(out, (10, 100, 20))\n",
        "        \n",
        "        out, (h_n, c_n) = self.lstm1(out, (h_0, c_0)) #pass through lstm1 (h_n = [1,10,10])\n",
        "\n",
        "        out,(h_n, c_n) = self.lstm2(out, (h_1, c_1))\n",
        "\n",
        "        out,(h_n, c_n) = self.lstm3(out, (h_2, c_2))\n",
        "\n",
        "        out, (h_n, c_n) = self.lstm4(out, (h_3, c_3))\n",
        "\n",
        "        out = torch.reshape(out, (10, 20, 100))\n",
        "    \n",
        "        out = self.layers2(out) #convolution\n",
        "        return out\n",
        "\n",
        "    def training_step(self, x):\n",
        "        inputs, labels = x #get input and labels from batch of data\n",
        "        if torch.cuda.is_available():\n",
        "            inputs, labels = inputs.cuda(), labels.cuda()\n",
        "        out = self(inputs) #forward pass\n",
        "        loss = F.mse_loss(out, labels) #loss calculation\n",
        "        return loss\n",
        "    \n",
        "    def validation_step(self, x):\n",
        "        inputs, labels = x #get input and labels from batch of data\n",
        "        if torch.cuda.is_available():\n",
        "            inputs, labels = inputs.cuda(), labels.cuda()\n",
        "        out = self(inputs) #forward pass\n",
        "        loss = F.mse_loss(out,labels) #loss calculation\n",
        "        acc = 1-loss #accuracy calculation\n",
        "\n",
        "        return {'val_loss': loss, 'val_acc': acc}\n",
        "    \n",
        "    def validation_epoch_end(self, outputs): \n",
        "        batch_losses = [x['val_loss'] for x in outputs]\n",
        "        epoch_loss = torch.stack(batch_losses).mean() #Co\n",
        "        batch_accs = [x['val_acc'] for x in outputs]\n",
        "        epoch_acc = torch.stack(batch_accs).mean()\n",
        "        \n",
        "        return {'val_loss': epoch_loss.item(), 'val_acc': epoch_acc.item()}\n",
        "    \n",
        "    def epoch_end(self, epoch, result):\n",
        "        print(\"Epoch [{}], val_loss: {:.4f}, val_acc: {:.4f}\".format(epoch, result['val_loss'], result['val_acc']))"
      ],
      "execution_count": 86,
      "outputs": []
    },
    {
      "cell_type": "code",
      "metadata": {
        "id": "7RqFJIixrmNG"
      },
      "source": [
        "def evaluate(model, val_dl):\n",
        "    outputs = [model.validation_step(batch) for batch in val_dl]\n",
        "    \n",
        "    return model.validation_epoch_end(outputs)"
      ],
      "execution_count": 87,
      "outputs": []
    },
    {
      "cell_type": "code",
      "metadata": {
        "id": "oplXuZa241CL"
      },
      "source": [
        "def trainNet(epochs, lr, model, train_dl, val_dl, opt_func = torch.optim.SGD): \n",
        "    #training function for training NN\n",
        "    #inputs: \n",
        "    #epochs: number of epochs to train for\n",
        "    #lr: learning rate for optimizer\n",
        "    #model: model to be traine on\n",
        "    #train_dl: data loader with inputs and labels to train on\n",
        "    #val_dl: validation loader \n",
        "    #opt_func: optimizer function\n",
        "\n",
        "    optimizer = opt_func(model.parameters(), lr)\n",
        "    history = [] #recording epoch-wise results\n",
        "\n",
        "    for epoch in range(epochs):\n",
        "    #enter training loop\n",
        "        for batch in train_dl:\n",
        "            loss = model.training_step(batch)\n",
        "            loss.backward() #backprop\n",
        "            optimizer.step() #step forward in optimizer based on backgrop results\n",
        "            optimizer.zero_grad() #zero the gradients from training step\n",
        "\n",
        "        #validation phase\n",
        "        result = evaluate(model, val_dl)\n",
        "        model.epoch_end(epoch, result)\n",
        "        history.append(result)\n",
        "\n",
        "\n",
        "    return history\n"
      ],
      "execution_count": 88,
      "outputs": []
    },
    {
      "cell_type": "code",
      "metadata": {
        "id": "mR698MeB4CEq"
      },
      "source": [
        "net = Net() #instantiate \n",
        "if torch.cuda.is_available():\n",
        "    net.cuda()"
      ],
      "execution_count": 89,
      "outputs": []
    },
    {
      "cell_type": "code",
      "metadata": {
        "id": "lYSPxBZlAb4A",
        "colab": {
          "base_uri": "https://localhost:8080/"
        },
        "outputId": "8f9acbb8-1e18-4388-f7d1-d635b5ad5e5b"
      },
      "source": [
        "history = trainNet(10, 0.0001, net, train_dl, val_dl)"
      ],
      "execution_count": 99,
      "outputs": [
        {
          "output_type": "stream",
          "name": "stderr",
          "text": [
            "/usr/local/lib/python3.7/dist-packages/ipykernel_launcher.py:84: UserWarning: Using a target size (torch.Size([10, 100])) that is different to the input size (torch.Size([10, 1, 100])). This will likely lead to incorrect results due to broadcasting. Please ensure they have the same size.\n",
            "/usr/local/lib/python3.7/dist-packages/ipykernel_launcher.py:92: UserWarning: Using a target size (torch.Size([10, 100])) that is different to the input size (torch.Size([10, 1, 100])). This will likely lead to incorrect results due to broadcasting. Please ensure they have the same size.\n"
          ]
        },
        {
          "output_type": "stream",
          "name": "stdout",
          "text": [
            "Epoch [0], val_loss: 0.4629, val_acc: 0.5371\n",
            "Epoch [1], val_loss: 0.4095, val_acc: 0.5905\n",
            "Epoch [2], val_loss: 0.3953, val_acc: 0.6047\n",
            "Epoch [3], val_loss: 0.3913, val_acc: 0.6087\n",
            "Epoch [4], val_loss: 0.3897, val_acc: 0.6103\n",
            "Epoch [5], val_loss: 0.3890, val_acc: 0.6110\n",
            "Epoch [6], val_loss: 0.3886, val_acc: 0.6114\n",
            "Epoch [7], val_loss: 0.3884, val_acc: 0.6116\n",
            "Epoch [8], val_loss: 0.3883, val_acc: 0.6117\n",
            "Epoch [9], val_loss: 0.3882, val_acc: 0.6118\n"
          ]
        }
      ]
    },
    {
      "cell_type": "code",
      "metadata": {
        "colab": {
          "base_uri": "https://localhost:8080/",
          "height": 313
        },
        "id": "i9BOGqzD1ITk",
        "outputId": "f896702e-c771-4029-cfe4-33d96c4d1c5d"
      },
      "source": [
        "#plot training results\n",
        "accuracies = [result['val_acc'] for result in history]\n",
        "plt.plot(accuracies, label = 'accuracy')\n",
        "plt.xlabel('epoch')\n",
        "plt.ylabel('accuracy')\n",
        "plt.title('Accuracy vs. No. of epochs');\n",
        "\n",
        "losses = [result['val_loss'] for result in history]\n",
        "plt.plot(losses, label = 'loss')\n",
        "plt.xlabel('epoch')\n",
        "plt.ylabel('loss')\n",
        "plt.title('Loss vs. No. of epochs');\n",
        "\n",
        "plt.legend()"
      ],
      "execution_count": 100,
      "outputs": [
        {
          "output_type": "execute_result",
          "data": {
            "text/plain": [
              "<matplotlib.legend.Legend at 0x7f0443317950>"
            ]
          },
          "metadata": {},
          "execution_count": 100
        },
        {
          "output_type": "display_data",
          "data": {
            "image/png": "[encoded data removed]",
            "text/plain": [
              "<Figure size 432x288 with 1 Axes>"
            ]
          },
          "metadata": {
            "needs_background": "light"
          }
        }
      ]
    },
    {
      "cell_type": "code",
      "metadata": {
        "id": "0wlDhO05EPP4"
      },
      "source": [
        "#test on data\n",
        "#write to csv\n",
        "with open('recoverd.csv', 'w') as f: \n",
        "    writer = csv.writer(f, delimiter=',', quotechar='\"', quoting=csv.QUOTE_MINIMAL)\n",
        "    for batch in test_dl:\n",
        "        input, _ = batch #only care about input\n",
        "        out = net(input) #forward pass\n",
        "\n",
        "        out = torch.squeeze(out, 1)\n",
        "        out = out.detach().numpy()\n",
        "        \n",
        "        for i in range(len(out)):\n",
        "            writer.writerow(out[i])"
      ],
      "execution_count": 121,
      "outputs": []
    },
    {
      "cell_type": "markdown",
      "metadata": {
        "id": "WGV-cqnfNSV2"
      },
      "source": [
        "Debugging Section -- Ignore"
      ]
    },
    {
      "cell_type": "code",
      "metadata": {
        "id": "BtfqG0fBNRzQ"
      },
      "source": [
        "m = nn.Conv1d(16, 33, 3, stride=2)\n",
        "input = torch.randn(20, 16, 50)\n",
        "output = m(input)\n",
        "\n",
        "n = nn.BatchNorm1d(33)\n",
        "r = nn.ReLU()\n",
        "output_batch = n(output)\n",
        "out_relu = r(output_batch)\n",
        "\n"
      ],
      "execution_count": null,
      "outputs": []
    },
    {
      "cell_type": "code",
      "metadata": {
        "colab": {
          "base_uri": "https://localhost:8080/"
        },
        "id": "v9jWwOoZOUkR",
        "outputId": "9111c85d-01dd-4e30-900e-af8f44b460d2"
      },
      "source": [
        "print(input.shape)\n",
        "print(output.shape)\n",
        "print(output_batch.shape)\n",
        "print(out_relu.shape)\n"
      ],
      "execution_count": null,
      "outputs": [
        {
          "output_type": "stream",
          "name": "stdout",
          "text": [
            "torch.Size([20, 16, 50])\n",
            "torch.Size([20, 33, 24])\n",
            "torch.Size([20, 33, 24])\n",
            "torch.Size([20, 33, 24])\n"
          ]
        }
      ]
    },
    {
      "cell_type": "code",
      "metadata": {
        "colab": {
          "base_uri": "https://localhost:8080/"
        },
        "id": "frAAqa0EUYga",
        "outputId": "46949eed-73af-472d-e0ad-e30efe780561"
      },
      "source": [
        "x = torch.randn(5,10)\n",
        "x = torch.unsqueeze(x, 1)\n",
        "print(x.shape)"
      ],
      "execution_count": null,
      "outputs": [
        {
          "output_type": "stream",
          "name": "stdout",
          "text": [
            "torch.Size([5, 1, 10])\n"
          ]
        }
      ]
    },
    {
      "cell_type": "code",
      "metadata": {
        "id": "6JOfTUJ13zLs"
      },
      "source": [
        "#helper function for GPU\n",
        "def get_default_device():\n",
        "    if torch.cuda.is_available():\n",
        "        return torch.device('cuda')\n",
        "    else:\n",
        "        return torch.device('cpu')"
      ],
      "execution_count": null,
      "outputs": []
    },
    {
      "cell_type": "code",
      "metadata": {
        "id": "UytVFjyu30Np"
      },
      "source": [
        "#helper function for moving tensors to GPU\n",
        "def to_device(data, device):\n",
        "    if isinstance(data, (list,tuple)):\n",
        "        return [to_device(x, device) for x in data]\n",
        "    return data.to(device, non_blocking=True)"
      ],
      "execution_count": null,
      "outputs": []
    },
    {
      "cell_type": "code",
      "metadata": {
        "id": "AmUs1wjC39_N"
      },
      "source": [
        "class DeviceDataLoader():\n",
        "    \"\"\"Wrap a dataloader to move data to a device\"\"\"\n",
        "    def __init__(self, dl, device):\n",
        "        self.dl = dl\n",
        "        self.device = device\n",
        "        \n",
        "    def __iter__(self):\n",
        "        \"\"\"Yield a batch of data after moving it to device\"\"\"\n",
        "        for b in self.dl: \n",
        "            yield to_device(b, self.device)\n",
        "\n",
        "    def __len__(self):\n",
        "        \"\"\"Number of batches\"\"\"\n",
        "        return len(self.dl)"
      ],
      "execution_count": null,
      "outputs": []
    },
    {
      "cell_type": "code",
      "metadata": {
        "id": "FVgq0t7H4aUl"
      },
      "source": [
        "device = get_default_device()\n",
        "\n",
        "train_dl = DeviceDataLoader(train_dl, device)\n",
        "val_dl = DeviceDataLoader(val_dl, device)\n",
        "test_dl = DeviceDataLoader(test_dl, device)"
      ],
      "execution_count": null,
      "outputs": []
    },
    {
      "cell_type": "code",
      "metadata": {
        "colab": {
          "base_uri": "https://localhost:8080/"
        },
        "id": "enzrK42B0nYd",
        "outputId": "119b22b5-199b-446a-d0a4-bf83a23f6732"
      },
      "source": [
        "if torch.cuda.is_available():\n",
        "    print(True)"
      ],
      "execution_count": 27,
      "outputs": [
        {
          "output_type": "stream",
          "name": "stdout",
          "text": [
            "True\n"
          ]
        }
      ]
    },
    {
      "cell_type": "code",
      "metadata": {
        "colab": {
          "base_uri": "https://localhost:8080/",
          "height": 166
        },
        "id": "6AS0E_M7yVW9",
        "outputId": "92785e46-26d3-4ed1-e1f1-614cc4248cf7"
      },
      "source": [
        "print(train_dl)"
      ],
      "execution_count": 8,
      "outputs": [
        {
          "output_type": "error",
          "ename": "TypeError",
          "evalue": "ignored",
          "traceback": [
            "\u001b[0;31m---------------------------------------------------------------------------\u001b[0m",
            "\u001b[0;31mTypeError\u001b[0m                                 Traceback (most recent call last)",
            "\u001b[0;32m<ipython-input-8-6e3efba2aaa9>\u001b[0m in \u001b[0;36m<module>\u001b[0;34m()\u001b[0m\n\u001b[0;32m----> 1\u001b[0;31m \u001b[0mprint\u001b[0m\u001b[0;34m(\u001b[0m\u001b[0mtrain_dl\u001b[0m\u001b[0;34m[\u001b[0m\u001b[0;36m1\u001b[0m\u001b[0;34m]\u001b[0m\u001b[0;34m)\u001b[0m\u001b[0;34m\u001b[0m\u001b[0;34m\u001b[0m\u001b[0m\n\u001b[0m",
            "\u001b[0;31mTypeError\u001b[0m: 'DataLoader' object is not subscriptable"
          ]
        }
      ]
    },
    {
      "cell_type": "code",
      "metadata": {
        "colab": {
          "base_uri": "https://localhost:8080/"
        },
        "id": "-8cTbS2j-BDZ",
        "outputId": "a7150fd6-0d59-429b-d822-0f2dcd9a7b32"
      },
      "source": [
        "t3 = torch.tensor([[5., 6], \n",
        "                   [7, 8], \n",
        "                   [9, 10]])\n",
        "print(t3.shape)"
      ],
      "execution_count": 21,
      "outputs": [
        {
          "output_type": "stream",
          "name": "stdout",
          "text": [
            "torch.Size([3, 2])\n"
          ]
        }
      ]
    },
    {
      "cell_type": "code",
      "metadata": {
        "colab": {
          "base_uri": "https://localhost:8080/"
        },
        "id": "S9VO40vs-E5g",
        "outputId": "9f122b80-346f-418b-9576-d7e1882ebd23"
      },
      "source": [
        "# 3-dimensional array\n",
        "t4 = torch.tensor([\n",
        "    [[11, 12, 13], \n",
        "     [13, 14, 15]], \n",
        "    [[15, 16, 17], \n",
        "     [17, 18, 19.]]])\n",
        "print(t4.shape)"
      ],
      "execution_count": 22,
      "outputs": [
        {
          "output_type": "stream",
          "name": "stdout",
          "text": [
            "torch.Size([2, 2, 3])\n"
          ]
        }
      ]
    },
    {
      "cell_type": "code",
      "metadata": {
        "colab": {
          "base_uri": "https://localhost:8080/"
        },
        "id": "mhTKmcXU_inu",
        "outputId": "a0a2c09b-d318-4384-9a59-17395224ea73"
      },
      "source": [
        "a = torch.zeros(10,20,100)\n",
        "print(a.shape)\n",
        "\n",
        "a = torch.reshape(a, (10,100,20))\n",
        "print(a.shape)"
      ],
      "execution_count": 24,
      "outputs": [
        {
          "output_type": "stream",
          "name": "stdout",
          "text": [
            "torch.Size([10, 20, 100])\n",
            "torch.Size([10, 100, 20])\n"
          ]
        }
      ]
    },
    {
      "cell_type": "code",
      "metadata": {
        "colab": {
          "base_uri": "https://localhost:8080/"
        },
        "id": "UWNB0cOzhtWQ",
        "outputId": "52b1ea9c-a96b-4808-f3df-a0f84fc35ffd"
      },
      "source": [
        "rnn = nn.LSTM(10, 20, 2)\n",
        "input = torch.randn(5, 3, 10)\n",
        "h0 = torch.randn(2, 3, 20)\n",
        "c0 = torch.randn(2, 3, 20)\n",
        "output, (hn, cn) = rnn(input, (h0, c0))\n",
        "print(output.shape)\n",
        "\n",
        "\n",
        "h_n, c_n = rnn(input, (h0, c0))\n",
        "print(h_n.shape)\n"
      ],
      "execution_count": 20,
      "outputs": [
        {
          "output_type": "stream",
          "name": "stdout",
          "text": [
            "torch.Size([5, 3, 20])\n",
            "torch.Size([5, 3, 20])\n"
          ]
        }
      ]
    },
    {
      "cell_type": "code",
      "metadata": {
        "id": "o4g-spBFeoLq"
      },
      "source": [
        " '''\n",
        "        self.layers2 = nn.Sequential(\n",
        "            nn.Conv1d(20, 10, 1),\n",
        "            nn.BatchNorm1d(10),\n",
        "            nn.ReLU(),\n",
        "\n",
        "            nn.Conv1d(10, 10, 1),\n",
        "            nn.BatchNorm1d(10),\n",
        "            nn.ReLU(),\n",
        "\n",
        "            nn.Conv1d(10, 1, 1)\n",
        "\n",
        "            \n",
        "            nn.Conv1d(20, 20, 1),\n",
        "            nn.BatchNorm1d(20),\n",
        "            nn.ReLU(),\n",
        "            \n",
        "        )\n",
        "        '''\n",
        "\n",
        " #Conv2\n",
        "            nn.Conv1d(10, 20, 1),\n",
        "            nn.BatchNorm1d(20),\n",
        "            nn.ReLU(),\n",
        "\n",
        "            nn.Conv1d(20, 10, 1),\n",
        "            nn.BatchNorm1d(10),\n",
        "            nn.ReLU(),\n",
        "\n",
        "            nn.Conv1d(10, 10, 1),\n",
        "            nn.BatchNorm1d(10),\n",
        "            nn.ReLU(),\n",
        "\n",
        "\n"
      ],
      "execution_count": null,
      "outputs": []
    },
    {
      "cell_type": "code",
      "metadata": {
        "colab": {
          "base_uri": "https://localhost:8080/"
        },
        "id": "IA_MijnbZw_R",
        "outputId": "8bfc8d30-5420-440d-fe81-406e477e391c"
      },
      "source": [
        "a = torch.zeros(10,1,100)\n",
        "a = torch.squeeze(a, 1)\n",
        "a.shape"
      ],
      "execution_count": 111,
      "outputs": [
        {
          "output_type": "execute_result",
          "data": {
            "text/plain": [
              "torch.Size([10, 100])"
            ]
          },
          "metadata": {},
          "execution_count": 111
        }
      ]
    }
  ]
}